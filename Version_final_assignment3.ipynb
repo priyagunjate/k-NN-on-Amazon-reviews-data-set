{
 "cells": [
  {
   "cell_type": "markdown",
   "metadata": {},
   "source": [
    "## Assignment 3:Apply k-NN on Amazon reviews data-set [M]\n"
   ]
  },
  {
   "cell_type": "markdown",
   "metadata": {},
   "source": [
    "Given Dataset consists of reviews of fine foods from amazon. Reviews describe\n",
    "    (1)product and user information\n",
    "    (2)ratings\n",
    "    (3) a plain text review.\n",
    " \n",
    "K-NN is used for classification and regression for data.Here, K-NN algorithm is applied on amazon reviews datasets to classify postive and negative reviews.\n",
    "\n",
    "Procedure to execute the above task is as follows:\n",
    "\n",
    "* Data Pre-processing is applied on given amazon reviews data-set.\n",
    "* Take sample of data from dataset because of computational limitations\n",
    "* apply  Feature generation techniques(Bow,tfidf,avg w2v,tfidfw2v) \n",
    "* Apply K-NN algorithm using each technique and find best accuracy\n",
    "\n",
    "\n",
    "## Objective:\n",
    "\n",
    "* To classify given reviews (positive (Rating of 4 or 5) & negative (rating of 1 or 2)) using k-NN algorithm(brute force and kd tree).\n",
    "* To train and test split data using Time based slicing\n",
    "* To find optimal 'k' in knn using TimeSeriesSplit(Bow,tfidf,avg w2v,tfidfw2v)\n",
    "* To calcuate Test accuracy:Best 'k'\n",
    "* Comapare the results using brute force and kd tree\n",
    "\n",
    "\n",
    "\n"
   ]
  },
  {
   "cell_type": "code",
   "execution_count": 1,
   "metadata": {},
   "outputs": [],
   "source": [
    "%matplotlib inline\n",
    "import warnings\n",
    "\n",
    "warnings.filterwarnings(\"ignore\")"
   ]
  },
  {
   "cell_type": "code",
   "execution_count": 2,
   "metadata": {
    "scrolled": true
   },
   "outputs": [
    {
     "name": "stderr",
     "output_type": "stream",
     "text": [
      "/usr/local/lib/python3.6/site-packages/sklearn/cross_validation.py:41: DeprecationWarning: This module was deprecated in version 0.18 in favor of the model_selection module into which all the refactored classes and functions are moved. Also note that the interface of the new CV iterators are different from that of this module. This module will be removed in 0.20.\n",
      "  \"This module will be removed in 0.20.\", DeprecationWarning)\n"
     ]
    }
   ],
   "source": [
    "# All necessary module\n",
    "\n",
    "#import  sys\n",
    "import re\n",
    "import math\n",
    "import sqlite3\n",
    "import pandas as pd\n",
    "import numpy as np\n",
    "import pickle\n",
    "# modules for text processing\n",
    "import nltk\n",
    "import string\n",
    "from nltk.corpus import stopwords\n",
    "from nltk.stem import PorterStemmer\n",
    "from nltk.stem.wordnet import WordNetLemmatizer\n",
    "import matplotlib.pyplot as plt\n",
    "import seaborn as sns\n",
    "from scipy.sparse import csr_matrix\n",
    "from sklearn.model_selection import TimeSeriesSplit\n",
    "from sklearn.model_selection import cross_val_score\n",
    "from sklearn.model_selection import GridSearchCV\n",
    "from sklearn.decomposition import TruncatedSVD\n",
    "import pytablewriter\n",
    "from sklearn.feature_extraction.text import TfidfTransformer\n",
    "from sklearn.feature_extraction.text import TfidfVectorizer\n",
    "\n",
    "from sklearn.feature_extraction.text import CountVectorizer\n",
    "from sklearn.metrics import confusion_matrix\n",
    "from sklearn import metrics\n",
    "from sklearn.metrics import f1_score\n",
    "from sklearn.metrics import recall_score\n",
    "from sklearn.metrics import precision_score\n",
    "\n",
    "#import scikitplot.metrics as skplt\n",
    "from sklearn.metrics import classification_report,confusion_matrix,accuracy_score\n",
    "\n",
    "from sklearn.metrics import roc_curve, auc\n",
    "from nltk.stem.porter import PorterStemmer\n",
    "\n",
    "\n",
    "# knn modules\n",
    "# train-split data,accuracy-score,cross-validation modules\n",
    "\n",
    "from sklearn.model_selection import train_test_split\n",
    "from sklearn import preprocessing\n",
    "from sklearn.neighbors import KNeighborsClassifier\n",
    "from scipy.spatial import cKDTree\n",
    "from sklearn.metrics import accuracy_score\n",
    "\n",
    "from collections import Counter\n",
    "from sklearn.metrics import accuracy_score\n",
    "from sklearn import cross_validation\n",
    "from sklearn.preprocessing import StandardScaler\n",
    "warnings.filterwarnings(\"ignore\")"
   ]
  },
  {
   "cell_type": "code",
   "execution_count": 3,
   "metadata": {},
   "outputs": [],
   "source": [
    "import zipfile\n",
    "archive = zipfile.ZipFile('/floyd/input/pri/Reviews.zip', 'r')\n",
    "csvfile = archive.open('Reviews.csv')"
   ]
  },
  {
   "cell_type": "code",
   "execution_count": 4,
   "metadata": {},
   "outputs": [
    {
     "name": "stdout",
     "output_type": "stream",
     "text": [
      "   Id   ProductId          UserId                      ProfileName  \\\n",
      "0   1  B001E4KFG0  A3SGXH7AUHU8GW                       delmartian   \n",
      "1   2  B00813GRG4  A1D87F6ZCVE5NK                           dll pa   \n",
      "2   3  B000LQOCH0   ABXLMWJIXXAIN  Natalia Corres \"Natalia Corres\"   \n",
      "3   4  B000UA0QIQ  A395BORC6FGVXV                             Karl   \n",
      "4   5  B006K2ZZ7K  A1UQRSCLF8GW1T    Michael D. Bigham \"M. Wassir\"   \n",
      "\n",
      "   HelpfulnessNumerator  HelpfulnessDenominator  Score        Time  \\\n",
      "0                     1                       1      5  1303862400   \n",
      "1                     0                       0      1  1346976000   \n",
      "2                     1                       1      4  1219017600   \n",
      "3                     3                       3      2  1307923200   \n",
      "4                     0                       0      5  1350777600   \n",
      "\n",
      "                 Summary                                               Text  \n",
      "0  Good Quality Dog Food  I have bought several of the Vitality canned d...  \n",
      "1      Not as Advertised  Product arrived labeled as Jumbo Salted Peanut...  \n",
      "2  \"Delight\" says it all  This is a confection that has been around a fe...  \n",
      "3         Cough Medicine  If you are looking for the secret ingredient i...  \n",
      "4            Great taffy  Great taffy at a great price.  There was a wid...  \n"
     ]
    }
   ],
   "source": [
    "# Reading CSV file and printing first five rows \n",
    "amz = pd.read_csv(csvfile ) # reviews.csv is  dataset file\n",
    "print(amz.head())\n"
   ]
  },
  {
   "cell_type": "code",
   "execution_count": 5,
   "metadata": {},
   "outputs": [
    {
     "name": "stdout",
     "output_type": "stream",
     "text": [
      "(568454, 10)\n",
      "Index(['Id', 'ProductId', 'UserId', 'ProfileName', 'HelpfulnessNumerator',\n",
      "       'HelpfulnessDenominator', 'Score', 'Time', 'Summary', 'Text'],\n",
      "      dtype='object')\n"
     ]
    }
   ],
   "source": [
    "# dimensions of dataset and columns name\n",
    "\n",
    "print(amz.shape) \n",
    "#print(amz1.shape)\n",
    "print(amz.columns)\n",
    "amz=amz.fillna(lambda x: x.median())"
   ]
  },
  {
   "cell_type": "markdown",
   "metadata": {},
   "source": [
    "The amazon reviews datafile contains 568454 rows of entry and 10 columns.For given objective, processing of data is necessary.\"Score\" and \"text\" columns is processed for required result."
   ]
  },
  {
   "cell_type": "markdown",
   "metadata": {},
   "source": [
    "##### Given reviews with Score>3 a positive rating, and reviews with a score<3 a negative rating. If score is equal to 3,it is considered as neutral score."
   ]
  },
  {
   "cell_type": "code",
   "execution_count": 6,
   "metadata": {},
   "outputs": [],
   "source": [
    "# Processing\n",
    "#Give reviews with Score>3 a positive rating, and reviews with a score<3 a negative rating.\n",
    "\n",
    "def score_part(x):\n",
    "    if x < 3:\n",
    "        return 'negative'\n",
    "    return 'positive'\n",
    "\n",
    "actualScore = amz['Score']\n",
    "#print(actualScore)\n",
    "New_score = actualScore.map(score_part)\n",
    "#print(New_score)\n",
    "amz['Score']=New_score\n",
    "\n",
    "# If score is equal to 3,it is considered as neutral score.\n",
    "\n",
    "    \n",
    "\n",
    "\n",
    "\n",
    "\n"
   ]
  },
  {
   "cell_type": "code",
   "execution_count": 7,
   "metadata": {},
   "outputs": [
    {
     "name": "stdout",
     "output_type": "stream",
     "text": [
      "(568454, 10)\n"
     ]
    },
    {
     "data": {
      "text/html": [
       "<div>\n",
       "<style scoped>\n",
       "    .dataframe tbody tr th:only-of-type {\n",
       "        vertical-align: middle;\n",
       "    }\n",
       "\n",
       "    .dataframe tbody tr th {\n",
       "        vertical-align: top;\n",
       "    }\n",
       "\n",
       "    .dataframe thead th {\n",
       "        text-align: right;\n",
       "    }\n",
       "</style>\n",
       "<table border=\"1\" class=\"dataframe\">\n",
       "  <thead>\n",
       "    <tr style=\"text-align: right;\">\n",
       "      <th></th>\n",
       "      <th>Id</th>\n",
       "      <th>ProductId</th>\n",
       "      <th>UserId</th>\n",
       "      <th>ProfileName</th>\n",
       "      <th>HelpfulnessNumerator</th>\n",
       "      <th>HelpfulnessDenominator</th>\n",
       "      <th>Score</th>\n",
       "      <th>Time</th>\n",
       "      <th>Summary</th>\n",
       "      <th>Text</th>\n",
       "    </tr>\n",
       "  </thead>\n",
       "  <tbody>\n",
       "    <tr>\n",
       "      <th>0</th>\n",
       "      <td>1</td>\n",
       "      <td>B001E4KFG0</td>\n",
       "      <td>A3SGXH7AUHU8GW</td>\n",
       "      <td>delmartian</td>\n",
       "      <td>1</td>\n",
       "      <td>1</td>\n",
       "      <td>positive</td>\n",
       "      <td>1303862400</td>\n",
       "      <td>Good Quality Dog Food</td>\n",
       "      <td>I have bought several of the Vitality canned d...</td>\n",
       "    </tr>\n",
       "    <tr>\n",
       "      <th>1</th>\n",
       "      <td>2</td>\n",
       "      <td>B00813GRG4</td>\n",
       "      <td>A1D87F6ZCVE5NK</td>\n",
       "      <td>dll pa</td>\n",
       "      <td>0</td>\n",
       "      <td>0</td>\n",
       "      <td>negative</td>\n",
       "      <td>1346976000</td>\n",
       "      <td>Not as Advertised</td>\n",
       "      <td>Product arrived labeled as Jumbo Salted Peanut...</td>\n",
       "    </tr>\n",
       "    <tr>\n",
       "      <th>2</th>\n",
       "      <td>3</td>\n",
       "      <td>B000LQOCH0</td>\n",
       "      <td>ABXLMWJIXXAIN</td>\n",
       "      <td>Natalia Corres \"Natalia Corres\"</td>\n",
       "      <td>1</td>\n",
       "      <td>1</td>\n",
       "      <td>positive</td>\n",
       "      <td>1219017600</td>\n",
       "      <td>\"Delight\" says it all</td>\n",
       "      <td>This is a confection that has been around a fe...</td>\n",
       "    </tr>\n",
       "    <tr>\n",
       "      <th>3</th>\n",
       "      <td>4</td>\n",
       "      <td>B000UA0QIQ</td>\n",
       "      <td>A395BORC6FGVXV</td>\n",
       "      <td>Karl</td>\n",
       "      <td>3</td>\n",
       "      <td>3</td>\n",
       "      <td>negative</td>\n",
       "      <td>1307923200</td>\n",
       "      <td>Cough Medicine</td>\n",
       "      <td>If you are looking for the secret ingredient i...</td>\n",
       "    </tr>\n",
       "    <tr>\n",
       "      <th>4</th>\n",
       "      <td>5</td>\n",
       "      <td>B006K2ZZ7K</td>\n",
       "      <td>A1UQRSCLF8GW1T</td>\n",
       "      <td>Michael D. Bigham \"M. Wassir\"</td>\n",
       "      <td>0</td>\n",
       "      <td>0</td>\n",
       "      <td>positive</td>\n",
       "      <td>1350777600</td>\n",
       "      <td>Great taffy</td>\n",
       "      <td>Great taffy at a great price.  There was a wid...</td>\n",
       "    </tr>\n",
       "  </tbody>\n",
       "</table>\n",
       "</div>"
      ],
      "text/plain": [
       "   Id   ProductId          UserId                      ProfileName  \\\n",
       "0   1  B001E4KFG0  A3SGXH7AUHU8GW                       delmartian   \n",
       "1   2  B00813GRG4  A1D87F6ZCVE5NK                           dll pa   \n",
       "2   3  B000LQOCH0   ABXLMWJIXXAIN  Natalia Corres \"Natalia Corres\"   \n",
       "3   4  B000UA0QIQ  A395BORC6FGVXV                             Karl   \n",
       "4   5  B006K2ZZ7K  A1UQRSCLF8GW1T    Michael D. Bigham \"M. Wassir\"   \n",
       "\n",
       "   HelpfulnessNumerator  HelpfulnessDenominator     Score        Time  \\\n",
       "0                     1                       1  positive  1303862400   \n",
       "1                     0                       0  negative  1346976000   \n",
       "2                     1                       1  positive  1219017600   \n",
       "3                     3                       3  negative  1307923200   \n",
       "4                     0                       0  positive  1350777600   \n",
       "\n",
       "                 Summary                                               Text  \n",
       "0  Good Quality Dog Food  I have bought several of the Vitality canned d...  \n",
       "1      Not as Advertised  Product arrived labeled as Jumbo Salted Peanut...  \n",
       "2  \"Delight\" says it all  This is a confection that has been around a fe...  \n",
       "3         Cough Medicine  If you are looking for the secret ingredient i...  \n",
       "4            Great taffy  Great taffy at a great price.  There was a wid...  "
      ]
     },
     "execution_count": 7,
     "metadata": {},
     "output_type": "execute_result"
    }
   ],
   "source": [
    "print(amz.shape)\n",
    "amz.head(5)"
   ]
  },
  {
   "cell_type": "markdown",
   "metadata": {},
   "source": [
    "#### Data Pre-processing on raw data:\n",
    "\n",
    "Every datasets contains some unwanted data.Raw data is preprocessed by removing duplication.\n"
   ]
  },
  {
   "cell_type": "code",
   "execution_count": 8,
   "metadata": {
    "scrolled": true
   },
   "outputs": [
    {
     "name": "stdout",
     "output_type": "stream",
     "text": [
      "            Id   ProductId          UserId  \\\n",
      "171222  171223  7310172001   AJD41FBJD9010   \n",
      "171153  171154  7310172001   AJD41FBJD9010   \n",
      "171151  171152  7310172001   AJD41FBJD9010   \n",
      "217443  217444  7310172101  A22FICU3LCG2J1   \n",
      "217444  217445  7310172101  A1LQV0PSM04DWI   \n",
      "\n",
      "                                         ProfileName  HelpfulnessNumerator  \\\n",
      "171222  N. Ferguson \"Two, Daisy, Hannah, and Kitten\"                     1   \n",
      "171153  N. Ferguson \"Two, Daisy, Hannah, and Kitten\"                     0   \n",
      "171151  N. Ferguson \"Two, Daisy, Hannah, and Kitten\"                     0   \n",
      "217443                                      C. Knapp                     1   \n",
      "217444                                 B. Feuerstein                     1   \n",
      "\n",
      "        HelpfulnessDenominator     Score        Time  \\\n",
      "171222                       1  positive  1233360000   \n",
      "171153                       0  positive  1233360000   \n",
      "171151                       0  positive  1233360000   \n",
      "217443                       1  positive  1275523200   \n",
      "217444                       1  positive  1274313600   \n",
      "\n",
      "                                                  Summary  \\\n",
      "171222  best dog treat-- great for training---  all do...   \n",
      "171153  best dog treat-- great for training---  all do...   \n",
      "171151  dogs LOVE it--  best treat for rewards and tra...   \n",
      "217443                                Can't resist this !   \n",
      "217444                   Freeze dried liver as dog treats   \n",
      "\n",
      "                                                     Text  \n",
      "171222  Freeze dried liver has a hypnotic effect on do...  \n",
      "171153  Freeze dried liver has a hypnotic effect on do...  \n",
      "171151  Freeze dried liver has a hypnotic effect on do...  \n",
      "217443  My dog can't resist these treats - I can get h...  \n",
      "217444  My little pupster loves these things. She is n...  \n",
      "(393931, 10)\n"
     ]
    },
    {
     "data": {
      "text/plain": [
       "positive    336824\n",
       "negative     57107\n",
       "Name: Score, dtype: int64"
      ]
     },
     "execution_count": 8,
     "metadata": {},
     "output_type": "execute_result"
    }
   ],
   "source": [
    "#Processing of ProductId\n",
    "#Sorting data according to ProductId in ascending order\n",
    "sorted_data=amz.sort_values('ProductId', axis=0, ascending=True, inplace=False, kind='quicksort', na_position='last')\n",
    "\n",
    "# To check the duplications in raw data\n",
    "dupli=sorted_data[sorted_data.duplicated([\"UserId\",\"ProfileName\",\"Time\",\"Text\"])]\n",
    "print(dupli.head(5))\n",
    "# Remove Deduplication of entries\n",
    "final=sorted_data.drop_duplicates(subset={\"UserId\",\"ProfileName\",\"Time\",\"Text\"}, keep='first', inplace=False)\n",
    "final.shape\n",
    "#Checking to see how much % of data still remains\n",
    "(final['Id'].size*1.0)/(amz['Id'].size*1.0)*100\n",
    "final=final[final.HelpfulnessNumerator<=final.HelpfulnessDenominator]\n",
    "#Before starting the next phase of preprocessing lets see the number of entries left\n",
    "print(final.shape)\n",
    "\n",
    "#How many positive and negative reviews are present in our dataset?\n",
    "final['Score'].value_counts()"
   ]
  },
  {
   "cell_type": "code",
   "execution_count": 9,
   "metadata": {},
   "outputs": [
    {
     "name": "stdout",
     "output_type": "stream",
     "text": [
      "List of total counts Postive score and Negative score ==> [336824, 57107]\n"
     ]
    },
    {
     "data": {
      "text/plain": [
       "Text(0.5,1,'Total counts of Postive score and Negative score ')"
      ]
     },
     "execution_count": 9,
     "metadata": {},
     "output_type": "execute_result"
    },
    {
     "data": {
      "image/png": "[encoded data removed]",
      "text/plain": [
       "<Figure size 432x288 with 1 Axes>"
      ]
     },
     "metadata": {},
     "output_type": "display_data"
    }
   ],
   "source": [
    "a=final['Score'].value_counts().tolist()\n",
    "print('List of total counts Postive score and Negative score ==>',a)\n",
    "final['Score'].value_counts().plot(kind='bar')\n",
    "plt.title('Total counts of Postive score and Negative score ')\n"
   ]
  },
  {
   "cell_type": "markdown",
   "metadata": {},
   "source": [
    "#### observations\n",
    "* The positive reviews is greater than negative reviews.It makes data imbalanced.\n",
    "* From the bar plot ,it is seen that sampled datasets of review is imbalnced.\n"
   ]
  },
  {
   "cell_type": "markdown",
   "metadata": {},
   "source": [
    "# Text Preprocessing:"
   ]
  },
  {
   "cell_type": "code",
   "execution_count": 10,
   "metadata": {},
   "outputs": [
    {
     "name": "stdout",
     "output_type": "stream",
     "text": [
      "[nltk_data] Downloading package stopwords to /root/nltk_data...\n",
      "[nltk_data]   Unzipping corpora/stopwords.zip.\n"
     ]
    },
    {
     "data": {
      "text/plain": [
       "True"
      ]
     },
     "execution_count": 10,
     "metadata": {},
     "output_type": "execute_result"
    }
   ],
   "source": [
    "import nltk\n",
    "nltk.download('stopwords')"
   ]
  },
  {
   "cell_type": "code",
   "execution_count": 11,
   "metadata": {
    "scrolled": true
   },
   "outputs": [],
   "source": [
    " \n",
    "stop = set(stopwords.words('english')) #set of stopwords\n",
    "sno = nltk.stem.SnowballStemmer('english') #initialising the snowball stemmer\n",
    "\n",
    "def cleanhtml(sentence): #function to clean the word of any html-tags\n",
    "    cleanr = re.compile('<.*?>$< /><')\n",
    "    #cleanr = re.compile('<.*?>')\n",
    "    cleantext = re.sub(cleanr, ' ', sentence)\n",
    "    return cleantext\n",
    "def cleanpunc(sentence): #function to clean the word of any punctuation or special characters\n",
    "    cleaned = re.sub(r'[?|!|\\'|\"|#]',r'',sentence)\n",
    "    cleaned = re.sub(r'[.|,|)|(|\\|/]',r' ',cleaned)\n",
    "    return  cleaned\n"
   ]
  },
  {
   "cell_type": "markdown",
   "metadata": {},
   "source": [
    "cleaning html tags like\" <.*?>\" and punctuations like \" r'[?|!|\\'|\"|#]',r''\" from senetences"
   ]
  },
  {
   "cell_type": "code",
   "execution_count": 12,
   "metadata": {},
   "outputs": [],
   "source": [
    "#final = final.sample(frac=0.004,random_state=1)\n",
    "#print(final.shape)"
   ]
  },
  {
   "cell_type": "code",
   "execution_count": 13,
   "metadata": {},
   "outputs": [],
   "source": [
    "#Code for implementing step-by-step the checks mentioned in the pre-processing phase.\n",
    "\n",
    "'''Pre processing of text data:It is cleaning and flitering text'''\n",
    "i=0\n",
    "str1=' '\n",
    "global final_string\n",
    "final_string=[]\n",
    "all_positive_words=[] \n",
    "all_negative_words=[] \n",
    "s=''\n",
    "for sent in final['Text'].values:\n",
    "    filtered_sentence=[]\n",
    "    #print(sent);\n",
    "    sent=cleanhtml(sent) # remove HTMl tags\n",
    "    for w in sent.split():\n",
    "        for cleaned_words in cleanpunc(w).split():\n",
    "            if((cleaned_words.isalpha()) & (len(cleaned_words)>2)):    \n",
    "                if(cleaned_words.lower() not in stop):\n",
    "                    s=(sno.stem(cleaned_words.lower())).encode('utf8')\n",
    "                    filtered_sentence.append(s)\n",
    "                    if (final['Score'].values)[i] == 'positive': \n",
    "                        all_positive_words.append(s) #list of all words used to describe positive reviews\n",
    "                    if(final['Score'].values)[i] == 'negative':\n",
    "                        all_negative_words.append(s) #list of all words used to describe negative reviews reviews\n",
    "                else:\n",
    "                    continue\n",
    "            else:\n",
    "                continue \n",
    "    #print(filtered_sentence)\n",
    "    str1 = b\" \".join(filtered_sentence) #final string of cleaned words\n",
    "    #print(\"***********************************************************************\")\n",
    "\n",
    "    final_string.append(str1)\n",
    "    i+=1\n",
    "#print('all_positive_words =',len(all_positive_words))\n",
    "#print('all_negative_words =',len(all_negative_words))\n",
    "\n",
    "# Finding most frequently occuring Positive and Negative words \n",
    "\n",
    "freq_positive=nltk.FreqDist(all_positive_words)\n",
    "\n",
    "freq_negative=nltk.FreqDist(all_negative_words)\n",
    "\n",
    "#print(\"\\nMost Common Positive Words : \",freq_positive.most_common(20))\n",
    "\n",
    "#print(\"\\nMost Common Negative Words : \",freq_negative.most_common(20))\n",
    "\n",
    "\n"
   ]
  },
  {
   "cell_type": "markdown",
   "metadata": {},
   "source": [
    "##### Dumping and loading  Pre processing of text data in pickle file "
   ]
  },
  {
   "cell_type": "code",
   "execution_count": 14,
   "metadata": {},
   "outputs": [],
   "source": [
    "pickle_path_final_string='final_string.pkl'\n",
    "final_string_file=open(pickle_path_final_string,'wb')\n",
    "pickle.dump(final_string,final_string_file)\n",
    "final_string_file.close()"
   ]
  },
  {
   "cell_type": "code",
   "execution_count": 12,
   "metadata": {},
   "outputs": [],
   "source": [
    "pickle_path_final_string='final_string.pkl'\n",
    "final_string_unpkl=open(pickle_path_final_string,'rb')\n",
    "final_string=pickle.load(final_string_unpkl)"
   ]
  },
  {
   "cell_type": "code",
   "execution_count": 13,
   "metadata": {},
   "outputs": [
    {
     "name": "stdout",
     "output_type": "stream",
     "text": [
      "\n",
      "Pre_Process_Text_Data  X_Text= (393931,)\n",
      "\n",
      "Pre_Process_Score_Data Y_Score= (393931,)\n"
     ]
    }
   ],
   "source": [
    "\n",
    "final['CleanedText']=final_string\n",
    "#adding a column of CleanedText which displays the data after pre-processing of the review \n",
    "Pre_Process_Data = final[['CleanedText','Score','Time']] \n",
    "\n",
    "X_Text=Pre_Process_Data ['CleanedText']\n",
    "\n",
    "Y_Score =Pre_Process_Data ['Score'] # positive or negative score\n",
    "print('\\nPre_Process_Text_Data  X_Text=',X_Text.shape)\n",
    "print('\\nPre_Process_Score_Data Y_Score=',Y_Score.shape)\n"
   ]
  },
  {
   "cell_type": "code",
   "execution_count": 14,
   "metadata": {},
   "outputs": [
    {
     "name": "stdout",
     "output_type": "stream",
     "text": [
      "positive    101047\n",
      "Name: Score, dtype: int64\n",
      "negative    57107\n",
      "Name: Score, dtype: int64\n"
     ]
    }
   ],
   "source": [
    "# postive and negtive reviews from original datasets of amazon\n",
    "pos_final = Pre_Process_Data[Pre_Process_Data .Score == 'positive']# postive reviews\n",
    "pos_final = pos_final.sample(frac=0.3)\n",
    "print(pos_final.Score.value_counts())\n",
    "\n",
    "neg_final = Pre_Process_Data [Pre_Process_Data .Score == 'negative'] # negative reviews\n",
    "print(neg_final.Score.value_counts())"
   ]
  },
  {
   "cell_type": "code",
   "execution_count": 15,
   "metadata": {},
   "outputs": [
    {
     "name": "stdout",
     "output_type": "stream",
     "text": [
      "158154\n",
      "<class 'pandas.core.frame.DataFrame'>\n"
     ]
    }
   ],
   "source": [
    "final_pos_neg = pd.concat([pos_final,neg_final],axis=0)\n",
    "print(len(final_pos_neg))\n",
    "print(type(final_pos_neg))\n",
    "#print('final_pos_neg=',final_pos_neg['Score'])"
   ]
  },
  {
   "cell_type": "code",
   "execution_count": 16,
   "metadata": {},
   "outputs": [
    {
     "name": "stdout",
     "output_type": "stream",
     "text": [
      "Index(['CleanedText', 'Score', 'Time'], dtype='object')\n"
     ]
    }
   ],
   "source": [
    "print(final_pos_neg.columns)"
   ]
  },
  {
   "cell_type": "markdown",
   "metadata": {},
   "source": [
    "### Splitting Training and Testing dataset based on Time"
   ]
  },
  {
   "cell_type": "code",
   "execution_count": 17,
   "metadata": {},
   "outputs": [
    {
     "name": "stdout",
     "output_type": "stream",
     "text": [
      "(40000, 1)\n",
      "(40000, 1)\n",
      "X_train_data  (28000, 1)\n",
      "X_test_data  (12000, 1)\n",
      "Y_train_data  (28000,)\n",
      "Y_test_data  (12000,)\n"
     ]
    }
   ],
   "source": [
    "# splitting training and testing dataset (Time based splitting)\n",
    "\n",
    "X1 = final_pos_neg[['CleanedText','Time']].sort_values('Time',axis=0).drop('Time',axis=1)\n",
    "#40k data sample\n",
    "X=X1[:40000]\n",
    "\n",
    "print(X.shape)\n",
    "Y1 = final_pos_neg[['Score','Time']].sort_values('Time',axis=0).drop('Time',axis=1)\n",
    "#40k data sample\n",
    "Y=Y1[:40000]\n",
    "print(Y.shape)\n",
    "## 70 % of data\n",
    "\n",
    "X_train_data ,X_test_data,Y_train_data,Y_test_data  = train_test_split(X,\n",
    "                                                      Y.values.ravel(),\n",
    "                                                                       \n",
    "                                                    test_size=0.3,shuffle=False)\n",
    "\n",
    "\n",
    "\n",
    "print('X_train_data ',X_train_data.shape)\n",
    "\n",
    "print('X_test_data ',X_test_data.shape )\n",
    "\n",
    "print('Y_train_data ',Y_train_data .shape)\n",
    "\n",
    "print('Y_test_data ',Y_test_data .shape)\n",
    "\n"
   ]
  },
  {
   "cell_type": "code",
   "execution_count": 18,
   "metadata": {},
   "outputs": [
    {
     "name": "stdout",
     "output_type": "stream",
     "text": [
      "y_train_new  (28000,)\n",
      "y_test_new  (12000,)\n"
     ]
    }
   ],
   "source": [
    "\n",
    "Y_new = Y['Score'].map(lambda x: 1 if x == 'positive' else 0).values.ravel()\n",
    "# Y train and Test for sparse datasets\n",
    "\n",
    "y_train_new,y_test_new = train_test_split(Y_new,test_size=0.3,shuffle=False)\n",
    "print('y_train_new ',y_train_new.shape)\n",
    "\n",
    "print('y_test_new ',y_test_new .shape)\n"
   ]
  },
  {
   "cell_type": "markdown",
   "metadata": {},
   "source": [
    "#  Optimal K for KNN"
   ]
  },
  {
   "cell_type": "code",
   "execution_count": 19,
   "metadata": {},
   "outputs": [],
   "source": [
    " # Time seris splitting Cross-Validation\n",
    "tscv = TimeSeriesSplit(n_splits=3)"
   ]
  },
  {
   "cell_type": "code",
   "execution_count": 20,
   "metadata": {},
   "outputs": [],
   "source": [
    "# k-optimal is function to calculate the optimal k value for knn\n",
    "\n",
    "def k_optimal(X_train,X_test):\n",
    "    print('opyimal k value')\n",
    "    warnings.filterwarnings(\"ignore\")\n",
    "    \n",
    "    My_List = list(range(2,20)) \n",
    "    neighbors = list(filter(lambda x: x % 2 != 0, My_List))\n",
    "    algorithm=['kd_tree','brute']\n",
    "    global optimal_k_list\n",
    "    optimal_k_list=[]\n",
    "    for algo in range(len(algorithm)):\n",
    "        print('algorithm = ',algorithm[algo])\n",
    "        \n",
    "        test_error=[]\n",
    "        train_error=[]\n",
    "        cv_scores = []\n",
    "\n",
    "        for i in range(len(neighbors)):\n",
    "            hp1 =dict(n_neighbors=[neighbors[i],],algorithm=[algorithm[algo],])\n",
    "            knn = KNeighborsClassifier(n_jobs=-1)\n",
    "            model1 = GridSearchCV(knn, hp1,\n",
    "                                  scoring ='f1', \n",
    "                                  cv=tscv\n",
    "                                  ,n_jobs= -1\n",
    "                                  ,pre_dispatch=8)\n",
    "            best_model1=model1.fit(X_train[algo], y_train_new)\n",
    "            \n",
    "            \n",
    "            Train_score=model1.score(X_train[algo], y_train_new)\n",
    "            \n",
    "            train_error.append(1-Train_score)\n",
    "            cv_scores.append(1-Train_score)\n",
    "            Test_score=model1.score(X_test[algo],y_test_new)\n",
    "            test_error.append(1-Test_score)\n",
    "\n",
    "\n",
    "\n",
    "        MSE = [1 - x for x in cv_scores]\n",
    "      \n",
    "        # determining best k\n",
    "        global optimal_k\n",
    "        optimal_k = neighbors[MSE.index(min(MSE))]\n",
    "      \n",
    "        optimal_k_list.append(optimal_k)\n",
    "\n",
    "\n",
    "        print('\\nThe optimal number of neighbors is %d.' % optimal_k)\n",
    "\n",
    "        fig = plt.figure( facecolor='y', edgecolor='k',figsize=(15,8))\n",
    "\n",
    "        plt.semilogx(neighbors, MSE,'m*',linestyle='dashed', label='depthsize')\n",
    "        plt.legend(loc='lower left')\n",
    "\n",
    "\n",
    "        for xy in zip(neighbors, np.round(MSE,3)):\n",
    "            plt.annotate('(%s, %s)' % xy, xy=xy, textcoords='data')\n",
    "        plt.title('Error_Rate vs. K_Value')\n",
    "        plt.grid()\n",
    "        plt.xlabel('Number of Neighbors K')\n",
    "        plt.ylabel('Misclassification Error')\n",
    "        plt.show()\n",
    "\n",
    "        print(\"the misclassification error for each k value is : \", np.round(MSE,5))\n",
    "\n",
    "        fig = plt.figure( facecolor='y', edgecolor='k')\n",
    "        plt.semilogx(neighbors,train_error,'g*',linestyle='dashed', label='Train')\n",
    "        plt.semilogx(neighbors,test_error,'r*', linestyle='dashed',label='Test')\n",
    "        plt.legend(loc='lower left')\n",
    "        plt.grid()\n",
    "\n",
    "        plt.xlabel('K neighbors  ')\n",
    "        plt.ylabel('Performance using '+str(algorithm[algo]))\n",
    "        plt.show()\n"
   ]
  },
  {
   "cell_type": "code",
   "execution_count": 42,
   "metadata": {},
   "outputs": [],
   "source": [
    "# k-optimal is function to calculate the optimal k value for knn \n",
    "# using Multiprocessing\n",
    "import multiprocessing as mp\n",
    "\n",
    "\n",
    "def main():\n",
    "    print(\"Started.\")\n",
    "\n",
    "    k_optimal(xtrain,xtest)\n",
    "   \n",
    "\n"
   ]
  },
  {
   "cell_type": "markdown",
   "metadata": {},
   "source": [
    "k-optimal is function to calculate the optimal k value for knn."
   ]
  },
  {
   "cell_type": "markdown",
   "metadata": {},
   "source": [
    "##### Pandas dataframe to markdown Table format"
   ]
  },
  {
   "cell_type": "code",
   "execution_count": 43,
   "metadata": {},
   "outputs": [],
   "source": [
    "# result_display  is function to convert dataframe into table format in Markdown\n",
    "def result_display(df):\n",
    "    writer = pytablewriter.MarkdownTableWriter()\n",
    "    writer.header_list = list(df.columns.values)\n",
    "    writer.value_matrix = df.values.tolist()\n",
    "    writer.write_table()\n",
    "\n",
    "\n",
    "    "
   ]
  },
  {
   "cell_type": "markdown",
   "metadata": {},
   "source": [
    "# Methods to convert text into vector"
   ]
  },
  {
   "cell_type": "markdown",
   "metadata": {},
   "source": [
    "Methods:\n",
    "* Bag of Words\n",
    "* Avg word2vec\n",
    "* Tf-idf\n",
    "* tf-idf weighted Word2Vec\n",
    "\n",
    "Using above four method is used to convert text to numeric vector."
   ]
  },
  {
   "cell_type": "markdown",
   "metadata": {},
   "source": [
    "# 1. Bag of Words (BoW)"
   ]
  },
  {
   "cell_type": "markdown",
   "metadata": {},
   "source": [
    "##### BOW for Training Data"
   ]
  },
  {
   "cell_type": "code",
   "execution_count": 29,
   "metadata": {},
   "outputs": [
    {
     "name": "stdout",
     "output_type": "stream",
     "text": [
      "(28000, 20590)\n"
     ]
    }
   ],
   "source": [
    "count_vect = CountVectorizer() #in scikit-learn\n",
    "vect_Data = count_vect.fit_transform(X_train_data.values.ravel())\n",
    "print(vect_Data .shape)"
   ]
  },
  {
   "cell_type": "code",
   "execution_count": 30,
   "metadata": {},
   "outputs": [
    {
     "name": "stdout",
     "output_type": "stream",
     "text": [
      "TruncatedSVD : (28000, 100)\n"
     ]
    }
   ],
   "source": [
    "# truncated SVD for dimesionality reduction for 100 dimensions\n",
    "svd = TruncatedSVD(n_components=100,n_iter=7)\n",
    "\n",
    "Data=svd.fit_transform(vect_Data )\n",
    "print(\"TruncatedSVD :\",Data.shape)\n"
   ]
  },
  {
   "cell_type": "code",
   "execution_count": 31,
   "metadata": {},
   "outputs": [
    {
     "name": "stdout",
     "output_type": "stream",
     "text": [
      "(28000, 100)\n"
     ]
    }
   ],
   "source": [
    "# StandardScaler\n",
    "sc_data= StandardScaler(with_mean=False).fit_transform(Data )\n",
    "final_data= preprocessing.normalize(sc_data)\n",
    "print(final_data.shape)\n",
    "#Normalize Data\n",
    "\n",
    "\n",
    "warnings.filterwarnings(\"ignore\")    "
   ]
  },
  {
   "cell_type": "markdown",
   "metadata": {},
   "source": [
    "#### Dumping & Loading Pickle file for training data ( BOW )\n"
   ]
  },
  {
   "cell_type": "code",
   "execution_count": 32,
   "metadata": {},
   "outputs": [],
   "source": [
    "#Pickle file for training data\n",
    "\n",
    "pickle_path_BOW_train='X_train_data_BOW.pkl'\n",
    "X_train_data_BOW=open(pickle_path_BOW_train,'wb')\n",
    "pickle.dump(final_data ,X_train_data_BOW)\n",
    "X_train_data_BOW.close()\n"
   ]
  },
  {
   "cell_type": "code",
   "execution_count": 33,
   "metadata": {},
   "outputs": [],
   "source": [
    "pickle_path_BOW_train='X_train_data_BOW.pkl'\n",
    "unpickle_path1=open(pickle_path_BOW_train,'rb')\n",
    "final_data=pickle.load(unpickle_path1)"
   ]
  },
  {
   "cell_type": "markdown",
   "metadata": {},
   "source": [
    "##### Sparse matrix for train Data (KD-Tree)"
   ]
  },
  {
   "cell_type": "code",
   "execution_count": 34,
   "metadata": {},
   "outputs": [
    {
     "name": "stdout",
     "output_type": "stream",
     "text": [
      "Train data Sparse: [[ 0.88923011 -0.23770002  0.15238884 ... -0.33439129 -0.18310113\n",
      "   0.07761813]\n",
      " [ 0.52521297 -0.07851448  0.03767966 ...  0.19579533  0.12882225\n",
      "  -0.18778595]\n",
      " [ 0.47455633 -0.1354722   0.06045515 ...  0.03616926 -0.02312829\n",
      "   0.04665366]\n",
      " ...\n",
      " [ 0.94256057 -0.31561972 -0.02754873 ...  0.0648032  -0.18641765\n",
      "   0.02396582]\n",
      " [ 1.21033516 -0.3813755   0.30442384 ... -0.21936339 -0.0671804\n",
      "   0.05819784]\n",
      " [ 4.32335934 -1.38510882 -0.87885423 ... -0.27533609 -0.03328312\n",
      "  -0.2384029 ]]\n"
     ]
    }
   ],
   "source": [
    "final_data_sparse=csr_matrix(Data).todense()\n",
    "#final_data_sparse = preprocessing.normalize(final_data_sparse1)\n",
    "print(\"Train data Sparse:\",final_data_sparse)"
   ]
  },
  {
   "cell_type": "markdown",
   "metadata": {},
   "source": [
    "##### BOW for Testing Data"
   ]
  },
  {
   "cell_type": "code",
   "execution_count": 35,
   "metadata": {},
   "outputs": [
    {
     "name": "stdout",
     "output_type": "stream",
     "text": [
      "(12000, 20590)\n",
      "TruncatedSVD : (12000, 100)\n"
     ]
    }
   ],
   "source": [
    "vect_Data1= count_vect.transform(X_test_data.values.ravel())\n",
    "print(vect_Data1.shape)\n",
    "\n",
    "svd1 = svd.fit(vect_Data1)\n",
    "\n",
    "X_test=svd1.transform(vect_Data1)\n",
    "print(\"TruncatedSVD :\",X_test.shape)\n",
    "#Normalize Data\n",
    "#X_sparse_tsvd = svd.fit(vect_Data1).transform(X_sparse)"
   ]
  },
  {
   "cell_type": "code",
   "execution_count": 36,
   "metadata": {},
   "outputs": [
    {
     "name": "stdout",
     "output_type": "stream",
     "text": [
      "StandardScaler(copy=True, with_mean=False, with_std=True)\n"
     ]
    }
   ],
   "source": [
    "#final_data_test= bb.fit(data1 )\n",
    "final_data_test_f=StandardScaler(with_mean=False).fit(X_test)\n",
    "print(final_data_test_f)\n",
    "\n",
    "final_data_test1=final_data_test_f.transform(X_test)\n",
    "final_data_test= preprocessing.normalize(final_data_test1)\n"
   ]
  },
  {
   "cell_type": "markdown",
   "metadata": {},
   "source": [
    "#### Dumping & Loading Pickle file for testing data ( BOW) "
   ]
  },
  {
   "cell_type": "code",
   "execution_count": 37,
   "metadata": {},
   "outputs": [],
   "source": [
    "pickle_path_BOW_test='X_test_data_BOW.pkl'\n",
    "X_test_data_BOW=open(pickle_path_BOW_test,'wb')\n",
    "pickle.dump(final_data_test ,X_test_data_BOW)\n",
    "X_test_data_BOW.close()"
   ]
  },
  {
   "cell_type": "code",
   "execution_count": 38,
   "metadata": {},
   "outputs": [],
   "source": [
    "pickle_path_BOW_test='X_test_data_BOW.pkl'\n",
    "unpickle_path2=open(pickle_path_BOW_test,'rb')\n",
    "final_data_test=pickle.load(unpickle_path2)"
   ]
  },
  {
   "cell_type": "code",
   "execution_count": null,
   "metadata": {},
   "outputs": [],
   "source": [
    "##### Sparse matrix for test data(KD-Tree)"
   ]
  },
  {
   "cell_type": "code",
   "execution_count": 39,
   "metadata": {},
   "outputs": [
    {
     "name": "stdout",
     "output_type": "stream",
     "text": [
      "Test Data Sparse: (12000, 100)\n"
     ]
    }
   ],
   "source": [
    "final_data_test_sparse=csr_matrix(final_data_test ).todense()\n",
    "#final_data_test_sparse= preprocessing.normalize(final_data_test_sparse)\n",
    "print(\"Test Data Sparse:\",final_data_test_sparse.shape)"
   ]
  },
  {
   "cell_type": "markdown",
   "metadata": {},
   "source": [
    " Featured data of Bag of words is Standardization (mean=0 and std.dev=1)."
   ]
  },
  {
   "cell_type": "markdown",
   "metadata": {},
   "source": [
    "### Optimal k using BOW"
   ]
  },
  {
   "cell_type": "code",
   "execution_count": 37,
   "metadata": {},
   "outputs": [
    {
     "name": "stdout",
     "output_type": "stream",
     "text": [
      "Started.\n",
      "opyimal k value\n",
      "algorithm =  kd_tree\n",
      "\n",
      "The optimal number of neighbors is 19.\n"
     ]
    },
    {
     "data": {
      "image/png": "[encoded data removed]",
      "text/plain": [
       "<Figure size 1080x576 with 1 Axes>"
      ]
     },
     "metadata": {},
     "output_type": "display_data"
    },
    {
     "name": "stdout",
     "output_type": "stream",
     "text": [
      "the misclassification error for each k value is :  [0.89642 0.87631 0.86964 0.86369 0.86281 0.86021 0.85947 0.85914 0.85722]\n"
     ]
    },
    {
     "data": {
      "image/png": "[encoded data removed]",
      "text/plain": [
       "<Figure size 432x288 with 1 Axes>"
      ]
     },
     "metadata": {},
     "output_type": "display_data"
    },
    {
     "name": "stdout",
     "output_type": "stream",
     "text": [
      "algorithm =  brute\n",
      "\n",
      "The optimal number of neighbors is 19.\n"
     ]
    },
    {
     "data": {
      "image/png": "[encoded data removed]",
      "text/plain": [
       "<Figure size 1080x576 with 1 Axes>"
      ]
     },
     "metadata": {},
     "output_type": "display_data"
    },
    {
     "name": "stdout",
     "output_type": "stream",
     "text": [
      "the misclassification error for each k value is :  [0.89705 0.87762 0.86877 0.86664 0.86311 0.86166 0.8592  0.85858 0.85849]\n"
     ]
    },
    {
     "data": {
      "image/png": "[encoded data removed]",
      "text/plain": [
       "<Figure size 432x288 with 1 Axes>"
      ]
     },
     "metadata": {},
     "output_type": "display_data"
    }
   ],
   "source": [
    "# To get optimal k using BOW\n",
    "\n",
    "if __name__=='__main__':\n",
    "    mp.freeze_support()\n",
    "   \n",
    "    xtrain=[final_data_sparse,final_data]\n",
    "    xtest=[final_data_test_sparse,final_data_test]\n",
    "\n",
    "    main()\n",
    "    \n",
    "    \n",
    "\n",
    "\n",
    "\n",
    "\n"
   ]
  },
  {
   "cell_type": "code",
   "execution_count": 38,
   "metadata": {},
   "outputs": [
    {
     "name": "stdout",
     "output_type": "stream",
     "text": [
      "[19, 19]\n"
     ]
    }
   ],
   "source": [
    "print(optimal_k_list)"
   ]
  },
  {
   "cell_type": "markdown",
   "metadata": {},
   "source": [
    "#### Observations:\n",
    "* The optimal number of neighbors is 19 for both KD_tree KNN and Brute KNN\n",
    "* Error rate vs K value graph is shown as above.\n",
    "* From the graph, misclassification error is low for higher k values.\n",
    "* As k values increases from 1 to 20, MSE  decreses and then remains constant.\n",
    "* at k=19 , MSE is lower than other value for both the implementations.\n",
    "* Training and testing error plot is shown for KD-Tree and Brute KNN.\n"
   ]
  },
  {
   "cell_type": "markdown",
   "metadata": {},
   "source": [
    "## Knn classifier  for optimal k value\n",
    "All techniques for Scoring metrics and confusion matrix are shown as below"
   ]
  },
  {
   "cell_type": "code",
   "execution_count": 26,
   "metadata": {},
   "outputs": [
    {
     "data": {
      "text/html": [
       "<div>\n",
       "<style scoped>\n",
       "    .dataframe tbody tr th:only-of-type {\n",
       "        vertical-align: middle;\n",
       "    }\n",
       "\n",
       "    .dataframe tbody tr th {\n",
       "        vertical-align: top;\n",
       "    }\n",
       "\n",
       "    .dataframe thead th {\n",
       "        text-align: right;\n",
       "    }\n",
       "</style>\n",
       "<table border=\"1\" class=\"dataframe\">\n",
       "  <thead>\n",
       "    <tr style=\"text-align: right;\">\n",
       "      <th></th>\n",
       "      <th>Model</th>\n",
       "      <th>Vectorizer</th>\n",
       "      <th>algorithm</th>\n",
       "      <th>Optimal k</th>\n",
       "      <th>Train error</th>\n",
       "      <th>Test error</th>\n",
       "      <th>Accuracy</th>\n",
       "      <th>F1</th>\n",
       "      <th>recall</th>\n",
       "      <th>precision</th>\n",
       "    </tr>\n",
       "  </thead>\n",
       "  <tbody>\n",
       "  </tbody>\n",
       "</table>\n",
       "</div>"
      ],
      "text/plain": [
       "Empty DataFrame\n",
       "Columns: [Model, Vectorizer, algorithm, Optimal k, Train error, Test error, Accuracy, F1, recall, precision]\n",
       "Index: []"
      ]
     },
     "execution_count": 26,
     "metadata": {},
     "output_type": "execute_result"
    }
   ],
   "source": [
    "models_performence = {\n",
    "    'Model':[],    \n",
    "    'Vectorizer': [],\n",
    "    'algorithm':[],\n",
    "    'Optimal k': [],\n",
    "    'Train error':[],\n",
    "    'Test error':[],\n",
    "    'Accuracy':[],\n",
    "    'F1':[],\n",
    "    'recall':[],\n",
    "    'precision':[]\n",
    "    \n",
    "  \n",
    "}\n",
    "columns = [\"Model\", \"Vectorizer\",\"algorithm\",\"Optimal k\", \"Train error\",  \"Test error\",\n",
    "            \"Accuracy\",\"F1\",\"recall\",\"precision\",\n",
    "          ]\n",
    "pd.DataFrame(models_performence, columns=columns)"
   ]
  },
  {
   "cell_type": "markdown",
   "metadata": {},
   "source": [
    "### KNN Classifier \n"
   ]
  },
  {
   "cell_type": "code",
   "execution_count": 27,
   "metadata": {},
   "outputs": [],
   "source": [
    "#  Knn classifier \n",
    "def Knn_classifier_optimal_k(xtrain,ytrain,xtest,ytest,k,algo,vectorization):\n",
    "    \n",
    "    warnings.filterwarnings(\"ignore\")\n",
    "    \n",
    "    print(' Algorithm = '+str(algo))\n",
    "    \n",
    "    models_performence['Model'].append('KNN')\n",
    "    models_performence['Vectorizer'].append(vectorization)\n",
    "    models_performence['algorithm'].append(algo)\n",
    "    models_performence['Optimal k'].append(k)\n",
    "    #\n",
    "    knn = KNeighborsClassifier(n_neighbors=k,\n",
    "                               algorithm=algo,\n",
    "                               metric='euclidean',\n",
    "                               n_jobs=-1)\n",
    "    \n",
    "    model=knn.fit(xtrain,ytrain)\n",
    "    prediction =  model.predict(xtest)\n",
    "   \n",
    "    #Training accuracy and training error\n",
    "    \n",
    "    training_score=knn.score(xtrain,ytrain)\n",
    "    print('training accuracy=',training_score)\n",
    "    \n",
    "    \n",
    "    training_error=1-training_score\n",
    "    print('training error is =',training_error)\n",
    "    models_performence['Train error'].append(training_error)\n",
    "    \n",
    "    # Testing Accuracy and testing error for knn model\n",
    "\n",
    "    Testing_score=round(accuracy_score(ytest,prediction),5)\n",
    "    print(\"Accuracy for KNN model  is = \",Testing_score)\n",
    "    models_performence['Accuracy'].append(Testing_score)\n",
    "    \n",
    "    Testing_error=1-Testing_score\n",
    "    print(\"Testing error for KNN model is = \",Testing_error)\n",
    "    models_performence['Test error'].append(Testing_error)\n",
    "    \n",
    "    F1_score = round(f1_score(ytest ,prediction,average='macro'),5)*100\n",
    "    models_performence['F1'].append(F1_score)\n",
    "    \n",
    "    recall = round(recall_score(ytest,prediction,average='macro'),5)*100\n",
    "    models_performence['recall'].append(recall)\n",
    "    \n",
    "    precision = round(precision_score(ytest,prediction,average='macro'),5)*100\n",
    "    models_performence['precision'].append(precision)\n",
    "    \n",
    "    print('\\n')\n",
    "    print(classification_report( ytest,prediction))\n",
    "    \n",
    "    cm = confusion_matrix( ytest,prediction)\n",
    "    label = ['negative', 'positive']\n",
    "    df_conf = pd.DataFrame(cm, index = label, columns = label)\n",
    "    sns.heatmap(df_conf, annot = True, fmt = \"d\")\n",
    "    plt.title(\"Confusiion Matrix\")\n",
    "    plt.xlabel(\"Predicted Label\")\n",
    "    plt.ylabel(\"True Label\")\n",
    "    plt.show()\n"
   ]
  },
  {
   "cell_type": "markdown",
   "metadata": {},
   "source": [
    "## Knn classifier  for optimal k value ( BOW)\n",
    "All techniques for Scoring metrics and confusion matrix are shown as below"
   ]
  },
  {
   "cell_type": "code",
   "execution_count": 41,
   "metadata": {},
   "outputs": [],
   "source": [
    "xtrain=[final_data_sparse,final_data]\n",
    "ytrain=[y_train_new,Y_train_data]\n",
    "\n",
    "xtest=[final_data_test_sparse,final_data_test]\n",
    "#xtest=final_data_test\n",
    "ytest=[y_test_new,Y_test_data]\n",
    "vectorization='BOW'\n",
    "\n",
    "k=optimal_k_list\n",
    "\n"
   ]
  },
  {
   "cell_type": "code",
   "execution_count": 42,
   "metadata": {},
   "outputs": [
    {
     "name": "stdout",
     "output_type": "stream",
     "text": [
      "Started.\n",
      "Algorithm is =['kd_tree', 'brute'] for optimal k =19\n",
      " Algorithm = kd_tree\n",
      "training accuracy= 0.7801785714285714\n",
      "training error is = 0.2198214285714286\n",
      "Accuracy for KNN model  is =  0.62692\n",
      "Testing error for KNN model is =  0.37307999999999997\n",
      "\n",
      "\n",
      "             precision    recall  f1-score   support\n",
      "\n",
      "          0       0.36      0.17      0.23      3934\n",
      "          1       0.68      0.85      0.75      8066\n",
      "\n",
      "avg / total       0.57      0.63      0.58     12000\n",
      "\n"
     ]
    },
    {
     "data": {
      "image/png": "[encoded data removed]",
      "text/plain": [
       "<Figure size 432x288 with 2 Axes>"
      ]
     },
     "metadata": {},
     "output_type": "display_data"
    },
    {
     "name": "stdout",
     "output_type": "stream",
     "text": [
      "Algorithm is =['kd_tree', 'brute'] for optimal k =19\n",
      " Algorithm = brute\n",
      "training accuracy= 0.7787857142857143\n",
      "training error is = 0.2212142857142857\n",
      "Accuracy for KNN model  is =  0.64375\n",
      "Testing error for KNN model is =  0.35624999999999996\n",
      "\n",
      "\n",
      "             precision    recall  f1-score   support\n",
      "\n",
      "   negative       0.35      0.10      0.15      3934\n",
      "   positive       0.67      0.91      0.77      8066\n",
      "\n",
      "avg / total       0.57      0.64      0.57     12000\n",
      "\n"
     ]
    },
    {
     "data": {
      "image/png": "[encoded data removed]",
      "text/plain": [
       "<Figure size 432x288 with 2 Axes>"
      ]
     },
     "metadata": {},
     "output_type": "display_data"
    }
   ],
   "source": [
    "import multiprocessing as mp\n",
    "\n",
    "\n",
    "def main1():\n",
    "    print(\"Started.\")\n",
    "    algorithm=['kd_tree','brute']\n",
    "  \n",
    "    for i in range(len(algorithm)):\n",
    "        algo=algorithm[i]\n",
    "        print(\"Algorithm is =\"+str(algorithm)+\" for optimal k =\"+str(k[i]))\n",
    "\n",
    "        Knn_classifier_optimal_k(xtrain[i],ytrain[i],xtest[i],ytest[i],k[i],algo,vectorization)\n",
    "\n",
    "if __name__=='__main__':\n",
    "    mp.freeze_support()\n",
    "    main1()\n",
    "   \n"
   ]
  },
  {
   "cell_type": "code",
   "execution_count": 43,
   "metadata": {
    "scrolled": false
   },
   "outputs": [
    {
     "name": "stdout",
     "output_type": "stream",
     "text": [
      "|Model|Vectorizer|algorithm|Optimal k|Train error|Test error|Accuracy| F1  |recall|precision|\n",
      "|-----|----------|---------|--------:|----------:|---------:|-------:|----:|-----:|--------:|\n",
      "|KNN  |BOW       |kd_tree  |       19|     0.2198|    0.3731|  0.6269|49.28| 51.03|    51.72|\n",
      "|KNN  |BOW       |brute    |       19|     0.2212|    0.3562|  0.6437|46.45| 50.43|    51.12|\n",
      "\n"
     ]
    }
   ],
   "source": [
    "df2=pd.DataFrame(models_performence, columns=columns)\n",
    "result_display(df2)"
   ]
  },
  {
   "cell_type": "markdown",
   "metadata": {},
   "source": [
    "|Model|Vectorizer|algorithm|Optimal k|Train error|Test error|Accuracy| F1  |recall|precision|\n",
    "|-----|----------|---------|--------:|----------:|---------:|-------:|----:|-----:|--------:|\n",
    "|KNN  |BOW       |kd_tree  |       19|     0.2198|    0.3731|  0.6269|49.28| 51.03|    51.72|\n",
    "|KNN  |BOW       |brute    |       19|     0.2212|    0.3562|  0.6437|46.45| 50.43|    51.12|"
   ]
  },
  {
   "cell_type": "markdown",
   "metadata": {},
   "source": [
    "#### observations\n",
    "* The optimal number of neighbors is 19 for both the algorithm.\n",
    "* True postive rate   is high(91%) for Brute force and 85% for KD-Tree.It means postive rating is higher as compared to negative rating which is good for amazon reviews .\n",
    "* Confusion matrix and model performance is shown as above.\n",
    "* FNR is higher in both Algorithm.\n",
    "* KDTree Algorithm for KNN classifier is giving better performance as compared to brute Algorithm  as seen in above table\n",
    "\n",
    "\n",
    "\n",
    " "
   ]
  },
  {
   "cell_type": "markdown",
   "metadata": {},
   "source": [
    "# 2. Avg word2vec\n",
    "Firstly, word2vec model is designed for amazon reviews using gensim module."
   ]
  },
  {
   "cell_type": "code",
   "execution_count": 44,
   "metadata": {},
   "outputs": [
    {
     "name": "stdout",
     "output_type": "stream",
     "text": [
      "28000\n"
     ]
    }
   ],
   "source": [
    "import gensim\n",
    "list_sent=[]\n",
    "for text in X_train_data.values.ravel(): \n",
    "    filter_text=[]\n",
    "    for i in text.split():\n",
    "        if(i.isalpha()):\n",
    "            filter_text.append(i.lower().decode(\"utf-8\"))\n",
    "        else:\n",
    "            continue \n",
    "    list_sent.append(filter_text)\n",
    "print(len(list_sent))\n",
    "\n",
    "\n",
    "    "
   ]
  },
  {
   "cell_type": "markdown",
   "metadata": {},
   "source": [
    "##### word2vec Model using Training Datasets"
   ]
  },
  {
   "cell_type": "code",
   "execution_count": 45,
   "metadata": {},
   "outputs": [],
   "source": [
    "\n",
    "w2v_model=gensim.models.Word2Vec(list_sent,min_count=5,size=100, workers=4) \n",
    "#this model is used in avg word2vec  .  \n"
   ]
  },
  {
   "cell_type": "code",
   "execution_count": 46,
   "metadata": {},
   "outputs": [],
   "source": [
    "pickle_path_w2v_model='w2v_model.pkl'\n",
    "w2v_model_path=open(pickle_path_w2v_model,'wb')\n",
    "pickle.dump(w2v_model,w2v_model_path)\n",
    "w2v_model_path.close()"
   ]
  },
  {
   "cell_type": "code",
   "execution_count": 47,
   "metadata": {},
   "outputs": [],
   "source": [
    "pickle_path_w2v_model='w2v_model.pkl'\n",
    "unpickle_w2v_model=open(pickle_path_w2v_model,'rb')\n",
    "w2v_model=pickle.load(unpickle_w2v_model)"
   ]
  },
  {
   "cell_type": "code",
   "execution_count": 48,
   "metadata": {},
   "outputs": [
    {
     "name": "stdout",
     "output_type": "stream",
     "text": [
      "7263\n"
     ]
    }
   ],
   "source": [
    "words = list(w2v_model.wv.vocab)\n",
    "print(len(words))\n",
    "#print(w2v_model['use'])"
   ]
  },
  {
   "cell_type": "markdown",
   "metadata": {},
   "source": [
    "#### Avg Word2Vec "
   ]
  },
  {
   "cell_type": "code",
   "execution_count": 49,
   "metadata": {},
   "outputs": [
    {
     "name": "stdout",
     "output_type": "stream",
     "text": [
      "28000\n"
     ]
    }
   ],
   "source": [
    "#  For Training\n",
    "\n",
    "sent_vectors = []\n",
    "for sent in list_sent: # for each review/sentence\n",
    "    sent_vec = np.zeros(100) \n",
    "    cnt_words =0 # num of words with a valid vector in the sentence/review\n",
    "    for word in sent: \n",
    "        try:\n",
    "            vec = w2v_model.wv[word]\n",
    "            sent_vec += vec\n",
    "            cnt_words += 1\n",
    "        except:\n",
    "            pass\n",
    "    sent_vec /= cnt_words\n",
    "    sent_vectors.append(sent_vec)\n",
    "\n",
    "\n",
    "print(len(sent_vectors))\n",
    "\n",
    "#print(sent_vectors[0:4])\n",
    "\n",
    "\n"
   ]
  },
  {
   "cell_type": "code",
   "execution_count": 50,
   "metadata": {},
   "outputs": [],
   "source": [
    "# Converting Nan value to zero in sent vectors.\n",
    "Sent_Nan = np.where(np.isnan(sent_vectors), 0, sent_vectors)\n",
    "\n"
   ]
  },
  {
   "cell_type": "code",
   "execution_count": 51,
   "metadata": {},
   "outputs": [
    {
     "name": "stdout",
     "output_type": "stream",
     "text": [
      "<class 'numpy.ndarray'>\n"
     ]
    }
   ],
   "source": [
    "# converting sent list to nd array\n",
    "Sent_final_vector = np.asarray(Sent_Nan )\n",
    "print(type(Sent_final_vector))\n"
   ]
  },
  {
   "cell_type": "code",
   "execution_count": 52,
   "metadata": {},
   "outputs": [
    {
     "name": "stdout",
     "output_type": "stream",
     "text": [
      "12000\n",
      "<class 'numpy.ndarray'>\n"
     ]
    }
   ],
   "source": [
    "#  ForTesting\n",
    "# Words in test reviews\n",
    "list_sent_test=[]\n",
    "for text in X_test_data.values.ravel(): \n",
    "    filter_text=[]\n",
    "    for i in text.split():\n",
    "        if(i.isalpha()):\n",
    "            filter_text.append(i.lower().decode(\"utf-8\"))\n",
    "        else:\n",
    "            continue \n",
    "    list_sent_test.append(filter_text)\n",
    "#print(len(list_sent_test))\n",
    "\n",
    "sent_vectors1 = []\n",
    "for sent in list_sent_test: # for each review/sentence\n",
    "    sent_vec = np.zeros(100) \n",
    "    cnt_words =0 # num of words with a valid vector in the sentence/review\n",
    "    for word in sent: \n",
    "        try:\n",
    "            vec = w2v_model.wv[word]\n",
    "            sent_vec += vec\n",
    "            cnt_words += 1\n",
    "        except:\n",
    "            pass\n",
    "    sent_vec /= cnt_words\n",
    "    sent_vectors1.append(sent_vec)\n",
    "\n",
    "\n",
    "print(len(sent_vectors1))\n",
    "\n",
    "#print(sent_vectors1)\n",
    "# Converting Nan value to zero in sent vectors.\n",
    "Sent_Nan1 = np.where(np.isnan(sent_vectors1), 0, sent_vectors1)\n",
    "\n",
    "# converting sent list to nd array\n",
    "Sent_final_vector1 = np.asarray(Sent_Nan1)\n",
    "print(type(Sent_final_vector1))\n",
    "\n"
   ]
  },
  {
   "cell_type": "markdown",
   "metadata": {},
   "source": [
    "#### Dumping & Loading Pickle file for  Avg word2vec"
   ]
  },
  {
   "cell_type": "code",
   "execution_count": 53,
   "metadata": {},
   "outputs": [],
   "source": [
    "pickle_path_AW2V_train='X_data_AW2V_train.pkl'\n",
    "X_data_AW2V_train=open(pickle_path_AW2V_train,'wb')\n",
    "pickle.dump(Sent_final_vector,X_data_AW2V_train)\n",
    "X_data_AW2V_train.close()\n",
    "\n",
    "pickle_path_AW2V_test='X_data_AW2V_test.pkl'\n",
    "X_data_AW2V_test=open(pickle_path_AW2V_test,'wb')\n",
    "pickle.dump(Sent_final_vector1,X_data_AW2V_test)\n",
    "X_data_AW2V_test.close()\n"
   ]
  },
  {
   "cell_type": "code",
   "execution_count": 54,
   "metadata": {},
   "outputs": [],
   "source": [
    "pickle_path_AW2V_train='X_data_AW2V_train.pkl'\n",
    "unpickle_path3_train=open(pickle_path_AW2V_train,'rb')\n",
    "Sent_final_vector=pickle.load(unpickle_path3_train)\n",
    "\n",
    "pickle_path_AW2V_test='X_data_AW2V_test.pkl'\n",
    "unpickle_path3_test=open(pickle_path_AW2V_test,'rb')\n",
    "Sent_final_vecto1=pickle.load(unpickle_path3_test)"
   ]
  },
  {
   "cell_type": "markdown",
   "metadata": {},
   "source": [
    "##### Standardscaler & normalizing training avg word2vec"
   ]
  },
  {
   "cell_type": "code",
   "execution_count": 55,
   "metadata": {},
   "outputs": [
    {
     "name": "stdout",
     "output_type": "stream",
     "text": [
      "(28000, 100)\n"
     ]
    }
   ],
   "source": [
    "sc_data1= StandardScaler(with_mean=False).fit_transform(Sent_final_vector)\n",
    "# For Train\n",
    "final_w2v_count_Train=preprocessing.normalize(sc_data1)\n",
    "print(final_w2v_count_Train.shape)"
   ]
  },
  {
   "cell_type": "markdown",
   "metadata": {},
   "source": [
    "##### Sparse Matrix for training Avg word2vec"
   ]
  },
  {
   "cell_type": "code",
   "execution_count": 56,
   "metadata": {},
   "outputs": [
    {
     "name": "stdout",
     "output_type": "stream",
     "text": [
      "Train data Sparse: (28000, 100)\n"
     ]
    }
   ],
   "source": [
    "final_w2v_count_Train_sparse=csr_matrix(Sent_final_vector).todense()\n",
    "\n",
    "print(\"Train data Sparse:\",final_w2v_count_Train_sparse.shape)"
   ]
  },
  {
   "cell_type": "markdown",
   "metadata": {},
   "source": [
    "##### Standardscaler & normalizing testing avg word2vec"
   ]
  },
  {
   "cell_type": "code",
   "execution_count": 57,
   "metadata": {},
   "outputs": [
    {
     "name": "stdout",
     "output_type": "stream",
     "text": [
      "StandardScaler(copy=True, with_mean=False, with_std=True)\n"
     ]
    }
   ],
   "source": [
    "sc_avgword2vec=StandardScaler(with_mean=False).fit(Sent_final_vector1)\n",
    "print(sc_avgword2vec)\n",
    "\n",
    "sc_avgword2vec1=sc_avgword2vec.transform(Sent_final_vector1)"
   ]
  },
  {
   "cell_type": "code",
   "execution_count": 58,
   "metadata": {},
   "outputs": [
    {
     "name": "stdout",
     "output_type": "stream",
     "text": [
      "(12000, 100)\n"
     ]
    }
   ],
   "source": [
    "\n",
    "final_w2v_count_Test=preprocessing.normalize(sc_avgword2vec1)# For Test\n",
    "print(final_w2v_count_Test.shape)\n"
   ]
  },
  {
   "cell_type": "code",
   "execution_count": 59,
   "metadata": {},
   "outputs": [
    {
     "name": "stdout",
     "output_type": "stream",
     "text": [
      "Test Data Sparse: (12000, 100)\n"
     ]
    }
   ],
   "source": [
    "final_w2v_count_Test_sparse=csr_matrix(Sent_final_vector1).todense()\n",
    "\n",
    "print(\"Test Data Sparse:\",final_w2v_count_Test_sparse.shape)"
   ]
  },
  {
   "cell_type": "markdown",
   "metadata": {},
   "source": [
    "##### for Training datasets ,avg word2vec \n",
    "                 final_w2v_count_Train,                 \n",
    "                 final_w2v_count_Train_sparse\n",
    "   \n",
    "##### for testing datasets ,avg word2vec \n",
    "                 final_w2v_count_Test, \n",
    "                 final_w2v_count_Test_sparse"
   ]
  },
  {
   "cell_type": "markdown",
   "metadata": {},
   "source": [
    "### Optimal k for Avg word2vec"
   ]
  },
  {
   "cell_type": "code",
   "execution_count": 60,
   "metadata": {},
   "outputs": [],
   "source": [
    "# To get optimal k using  Avg word2vec\n"
   ]
  },
  {
   "cell_type": "code",
   "execution_count": 61,
   "metadata": {},
   "outputs": [
    {
     "name": "stdout",
     "output_type": "stream",
     "text": [
      "Started.\n",
      "opyimal k value\n",
      "algorithm =  kd_tree\n",
      "\n",
      "The optimal number of neighbors is 19.\n"
     ]
    },
    {
     "data": {
      "image/png": "[encoded data removed]",
      "text/plain": [
       "<Figure size 1080x576 with 1 Axes>"
      ]
     },
     "metadata": {},
     "output_type": "display_data"
    },
    {
     "name": "stdout",
     "output_type": "stream",
     "text": [
      "the misclassification error for each k value is :  [0.91441 0.89846 0.89222 0.88871 0.88616 0.88473 0.8834  0.88187 0.88081]\n"
     ]
    },
    {
     "data": {
      "image/png": "[encoded data removed]",
      "text/plain": [
       "<Figure size 432x288 with 1 Axes>"
      ]
     },
     "metadata": {},
     "output_type": "display_data"
    },
    {
     "name": "stdout",
     "output_type": "stream",
     "text": [
      "algorithm =  brute\n",
      "\n",
      "The optimal number of neighbors is 19.\n"
     ]
    },
    {
     "data": {
      "image/png": "[encoded data removed]",
      "text/plain": [
       "<Figure size 1080x576 with 1 Axes>"
      ]
     },
     "metadata": {},
     "output_type": "display_data"
    },
    {
     "name": "stdout",
     "output_type": "stream",
     "text": [
      "the misclassification error for each k value is :  [0.91691 0.90007 0.89305 0.8895  0.88704 0.88581 0.88517 0.88372 0.88284]\n"
     ]
    },
    {
     "data": {
      "image/png": "[encoded data removed]",
      "text/plain": [
       "<Figure size 432x288 with 1 Axes>"
      ]
     },
     "metadata": {},
     "output_type": "display_data"
    }
   ],
   "source": [
    "if __name__=='__main__':\n",
    "    mp.freeze_support()\n",
    "   \n",
    "    xtrain=[final_w2v_count_Train_sparse,final_w2v_count_Train]\n",
    "    xtest=[final_w2v_count_Test_sparse,final_w2v_count_Test]\n",
    "\n",
    "    main()"
   ]
  },
  {
   "cell_type": "markdown",
   "metadata": {},
   "source": [
    "#### Observations\n",
    "* The optimal number of neighbors is 19 for avg word2vec for both the algorithm.\n",
    "* MSE(Misclassification error) is descreasing when k values is increasing  as seen in graph.\n",
    "* In performance graph, lowest k value gives higest error in test datasets. As k value increase, testing error gets reduces but vice -versa in case of traing datasets.\n"
   ]
  },
  {
   "cell_type": "markdown",
   "metadata": {},
   "source": [
    "## Knn classifier  for optimal k value ( Avg word2vec)\n",
    "All techniques for Scoring metrics and confusion matrix are shown as below"
   ]
  },
  {
   "cell_type": "code",
   "execution_count": 62,
   "metadata": {},
   "outputs": [
    {
     "name": "stdout",
     "output_type": "stream",
     "text": [
      "[19, 19]\n"
     ]
    }
   ],
   "source": [
    "k=optimal_k_list\n",
    "print(optimal_k_list)"
   ]
  },
  {
   "cell_type": "code",
   "execution_count": 63,
   "metadata": {},
   "outputs": [],
   "source": [
    "xtrain=[final_w2v_count_Train_sparse,final_w2v_count_Train]\n",
    "ytrain=[y_train_new,Y_train_data]\n",
    "xtest=[final_w2v_count_Test_sparse,final_w2v_count_Test]\n",
    "ytest=[y_test_new,Y_test_data]\n",
    "vectorization='Avg word2vec'"
   ]
  },
  {
   "cell_type": "code",
   "execution_count": 64,
   "metadata": {},
   "outputs": [
    {
     "name": "stdout",
     "output_type": "stream",
     "text": [
      "Started.\n",
      "Algorithm is =kd_tree for optimal k =19\n",
      " Algorithm = kd_tree\n",
      "training accuracy= 0.8197142857142857\n",
      "training error is = 0.18028571428571427\n",
      "Accuracy for KNN model  is =  0.7805\n",
      "Testing error for KNN model is =  0.21950000000000003\n",
      "\n",
      "\n",
      "             precision    recall  f1-score   support\n",
      "\n",
      "          0       0.75      0.50      0.60      3934\n",
      "          1       0.79      0.92      0.85      8066\n",
      "\n",
      "avg / total       0.78      0.78      0.77     12000\n",
      "\n"
     ]
    },
    {
     "data": {
      "image/png": "[encoded data removed]",
      "text/plain": [
       "<Figure size 432x288 with 2 Axes>"
      ]
     },
     "metadata": {},
     "output_type": "display_data"
    },
    {
     "name": "stdout",
     "output_type": "stream",
     "text": [
      "Algorithm is =brute for optimal k =19\n",
      " Algorithm = brute\n",
      "training accuracy= 0.8238571428571428\n",
      "training error is = 0.17614285714285716\n",
      "Accuracy for KNN model  is =  0.78667\n",
      "Testing error for KNN model is =  0.21333000000000002\n",
      "\n",
      "\n",
      "             precision    recall  f1-score   support\n",
      "\n",
      "   negative       0.75      0.53      0.62      3934\n",
      "   positive       0.80      0.91      0.85      8066\n",
      "\n",
      "avg / total       0.78      0.79      0.78     12000\n",
      "\n"
     ]
    },
    {
     "data": {
      "image/png": "[encoded data removed]",
      "text/plain": [
       "<Figure size 432x288 with 2 Axes>"
      ]
     },
     "metadata": {},
     "output_type": "display_data"
    }
   ],
   "source": [
    "import multiprocessing as mp\n",
    "\n",
    "\n",
    "def main1():\n",
    "    print(\"Started.\")\n",
    "    algorithm=['kd_tree','brute']\n",
    "  \n",
    "    for i in range(len(algorithm)):\n",
    "        algo=algorithm[i]\n",
    "        print(\"Algorithm is =\"+str(algo)+\" for optimal k =\"+str(k[i]))\n",
    "\n",
    "        Knn_classifier_optimal_k(xtrain[i],ytrain[i],xtest[i],ytest[i],k[i],algo,vectorization)\n",
    "\n",
    "if __name__=='__main__':\n",
    "    mp.freeze_support()\n",
    "    main1()\n",
    "   \n"
   ]
  },
  {
   "cell_type": "code",
   "execution_count": 65,
   "metadata": {},
   "outputs": [
    {
     "name": "stdout",
     "output_type": "stream",
     "text": [
      "|Model| Vectorizer |algorithm|Optimal k|Train error|Test error|Accuracy| F1  |recall|precision|\n",
      "|-----|------------|---------|--------:|----------:|---------:|-------:|----:|-----:|--------:|\n",
      "|KNN  |BOW         |kd_tree  |       19|     0.2198|    0.3731|  0.6269|49.28| 51.03|    51.72|\n",
      "|KNN  |BOW         |brute    |       19|     0.2212|    0.3562|  0.6437|46.45| 50.43|    51.12|\n",
      "|KNN  |Avg word2vec|kd_tree  |       19|     0.1803|    0.2195|  0.7805|72.38| 70.85|    76.85|\n",
      "|KNN  |Avg word2vec|brute    |       19|     0.1761|    0.2133|  0.7867|73.53| 72.05|    77.28|\n",
      "\n"
     ]
    }
   ],
   "source": [
    "df4=pd.DataFrame(models_performence, columns=columns)\n",
    "result_display(df4)"
   ]
  },
  {
   "cell_type": "markdown",
   "metadata": {},
   "source": [
    "|Model| Vectorizer |algorithm|Optimal k|Train error|Test error|Accuracy| F1  |recall|precision|\n",
    "|-----|------------|---------|--------:|----------:|---------:|-------:|----:|-----:|--------:|\n",
    "|KNN  |BOW         |kd_tree  |       19|     0.2895|    0.3299|  0.6701|40.79| 50.04|    51.33|\n",
    "|KNN  |BOW         |brute    |       19|     0.2895|    0.3299|  0.6701|40.79| 50.04|    51.33|\n",
    "|KNN  |Avg word2vec|kd_tree  |       19|     0.2875|    0.3368|  0.6632|42.09| 49.98|    49.82|\n",
    "|KNN  |Avg word2vec|brute    |       19|     0.2875|    0.3368|  0.6632|42.09| 49.98|    49.82|"
   ]
  },
  {
   "cell_type": "markdown",
   "metadata": {},
   "source": [
    "#### observations\n",
    "* The optimal number of neighbors is 19 for both the algorithm for avg word2vec model.\n",
    "* True postive rate   is high(91%) for Brute force and 92% for KD-Tree.It means postive rating is higher as compared to negative rating which is good for amazon reviews .\n",
    "* Confusion matrix and model performance is shown as above.\n",
    "* TNR and FNR is almost similar  in both Algorithm.FNR is high.Almost 50% of negative (3934 negative words )are predicting as postive \n",
    "* It means models performance is poor as negative reviews is showing as postive reviews.\n",
    "* KDTree Algorithm for KNN classifier is giving better performance as compared to brute Algorithm  as seen in above table\n",
    "\n",
    "\n",
    "\n",
    " "
   ]
  },
  {
   "cell_type": "markdown",
   "metadata": {},
   "source": [
    "# 3. TF-IDF\n"
   ]
  },
  {
   "cell_type": "code",
   "execution_count": 66,
   "metadata": {},
   "outputs": [],
   "source": [
    "##### TF-IDF for Training data"
   ]
  },
  {
   "cell_type": "code",
   "execution_count": 60,
   "metadata": {},
   "outputs": [],
   "source": [
    "\n",
    "tf_idf_vect = TfidfVectorizer(ngram_range=(1,2))\n",
    "final_tf_idf11 = tf_idf_vect.fit_transform(X_train_data.values.ravel())\n",
    "final_tf_idf11.get_shape()\n",
    "tfidf_feat = tf_idf_vect.get_feature_names() "
   ]
  },
  {
   "cell_type": "code",
   "execution_count": 61,
   "metadata": {},
   "outputs": [
    {
     "data": {
      "text/plain": [
       "493611"
      ]
     },
     "execution_count": 61,
     "metadata": {},
     "output_type": "execute_result"
    }
   ],
   "source": [
    "features = tf_idf_vect.get_feature_names()\n",
    "len(features)"
   ]
  },
  {
   "cell_type": "code",
   "execution_count": 62,
   "metadata": {},
   "outputs": [
    {
     "name": "stdout",
     "output_type": "stream",
     "text": [
      "TruncatedSVD : (28000, 100)\n"
     ]
    }
   ],
   "source": [
    "final_tf_idf=svd.fit_transform(final_tf_idf11 )\n",
    "print(\"TruncatedSVD :\",final_tf_idf.shape)\n"
   ]
  },
  {
   "cell_type": "markdown",
   "metadata": {},
   "source": [
    "#### Dumping & Loading Pickle file for training data (TF-IDF)"
   ]
  },
  {
   "cell_type": "code",
   "execution_count": 70,
   "metadata": {},
   "outputs": [],
   "source": [
    "pickle_path_tfidf_train='X_train_data_tfidf.pkl'\n",
    "X_train_data_tfidf=open(pickle_path_tfidf_train,'wb')\n",
    "pickle.dump(final_tf_idf ,X_train_data_tfidf)\n",
    "X_train_data_tfidf.close()"
   ]
  },
  {
   "cell_type": "code",
   "execution_count": 63,
   "metadata": {},
   "outputs": [],
   "source": [
    "pickle_path_tfidf_train='X_train_data_tfidf.pkl'\n",
    "unpickle_path5=open(pickle_path_tfidf_train,'rb')\n",
    "final_tf_idf=pickle.load(unpickle_path5)"
   ]
  },
  {
   "cell_type": "code",
   "execution_count": 64,
   "metadata": {},
   "outputs": [
    {
     "name": "stdout",
     "output_type": "stream",
     "text": [
      "Train Data:  (28000, 100)\n"
     ]
    }
   ],
   "source": [
    "#StandardScaleing and normalizing training Tf-IDF\n",
    "sc_data2= StandardScaler(with_mean=False).fit_transform(final_tf_idf)\n",
    "final_tfidf_np= preprocessing.normalize(sc_data2)\n",
    "print(\"Train Data: \",final_tfidf_np.shape)\n",
    "\n",
    "\n",
    "warnings.filterwarnings(\"ignore\")    "
   ]
  },
  {
   "cell_type": "code",
   "execution_count": 73,
   "metadata": {},
   "outputs": [
    {
     "name": "stdout",
     "output_type": "stream",
     "text": [
      "Train data Sparse: (28000, 100)\n"
     ]
    }
   ],
   "source": [
    "# Sparse matrix for Tf-IDF\n",
    "final_tf_idf_sparse=csr_matrix(final_tf_idf).todense()\n",
    "\n",
    "print(\"Train data Sparse:\",final_tf_idf_sparse.shape)"
   ]
  },
  {
   "cell_type": "markdown",
   "metadata": {},
   "source": [
    "##### tf-idf For Testing datasets "
   ]
  },
  {
   "cell_type": "code",
   "execution_count": 65,
   "metadata": {},
   "outputs": [
    {
     "data": {
      "text/plain": [
       "(12000, 493611)"
      ]
     },
     "execution_count": 65,
     "metadata": {},
     "output_type": "execute_result"
    }
   ],
   "source": [
    "final_tf_idf_test1_svd = tf_idf_vect.transform(X_test_data.values.ravel())\n",
    "final_tf_idf_test1_svd.get_shape()"
   ]
  },
  {
   "cell_type": "code",
   "execution_count": 66,
   "metadata": {},
   "outputs": [
    {
     "name": "stdout",
     "output_type": "stream",
     "text": [
      "TruncatedSVD : (12000, 100)\n"
     ]
    }
   ],
   "source": [
    "svd1 = svd.fit(final_tf_idf_test1_svd)\n",
    "\n",
    "final_tf_idf_test1=svd1.transform(final_tf_idf_test1_svd)\n",
    "print(\"TruncatedSVD :\",final_tf_idf_test1.shape)\n",
    "#Normalize Data\n",
    "#X_sparse_tsvd = svd.fit(vect_Data1).transform(X_sparse)"
   ]
  },
  {
   "cell_type": "markdown",
   "metadata": {},
   "source": [
    "#### Dumping & Loading Pickle file for testing data(TF-IDF)"
   ]
  },
  {
   "cell_type": "code",
   "execution_count": 76,
   "metadata": {},
   "outputs": [],
   "source": [
    "\n",
    "pickle_path_tfidf_test='X_test_data_tfidf.pkl'\n",
    "X_test_data_tfidf=open(pickle_path_tfidf_test,'wb')\n",
    "pickle.dump(final_tf_idf_test1 ,X_test_data_tfidf)\n",
    "X_test_data_tfidf.close()"
   ]
  },
  {
   "cell_type": "code",
   "execution_count": 67,
   "metadata": {},
   "outputs": [],
   "source": [
    "pickle_path_tfidf_test='X_test_data_tfidf.pkl'\n",
    "unpickle_path6=open(pickle_path_tfidf_test,'rb')\n",
    "final_tf_idf_test1=pickle.load(unpickle_path6)"
   ]
  },
  {
   "cell_type": "code",
   "execution_count": 68,
   "metadata": {},
   "outputs": [
    {
     "name": "stdout",
     "output_type": "stream",
     "text": [
      "StandardScaler(copy=True, with_mean=False, with_std=True)\n",
      "Test Data:  (12000, 100)\n"
     ]
    }
   ],
   "source": [
    "final_tf_idf_test1_f=StandardScaler(with_mean=False).fit(final_tf_idf_test1 )\n",
    "print(final_tf_idf_test1_f)\n",
    "\n",
    "final_tf_idf_test11=final_tf_idf_test1_f.transform(final_tf_idf_test1 )\n",
    "#Normalize Data\n",
    "final_tfidf_np_test= preprocessing.normalize(final_tf_idf_test11)\n",
    "print(\"Test Data: \",final_tfidf_np_test.shape)\n",
    "\n"
   ]
  },
  {
   "cell_type": "markdown",
   "metadata": {},
   "source": [
    "##### Sparse testing data for tf-idf"
   ]
  },
  {
   "cell_type": "code",
   "execution_count": 69,
   "metadata": {},
   "outputs": [
    {
     "name": "stdout",
     "output_type": "stream",
     "text": [
      "Test Data Sparse: (12000, 100)\n"
     ]
    }
   ],
   "source": [
    "final_tfidf_np_test_sparse=csr_matrix(final_tf_idf_test1).todense()\n",
    "\n",
    "print(\"Test Data Sparse:\",final_tfidf_np_test_sparse.shape)"
   ]
  },
  {
   "cell_type": "markdown",
   "metadata": {},
   "source": [
    "For Training :\n",
    "\n",
    "                1.final_tfidf_np\n",
    "                2.final_tf_idf_sparse\n",
    "    \n",
    "For Testing :\n",
    "\n",
    "                1.final_tfidf_np_test\n",
    "                2.final_tfidf_np_test_sparse\n",
    "\n",
    "    \n",
    "    "
   ]
  },
  {
   "cell_type": "markdown",
   "metadata": {},
   "source": [
    "## optimal k using TF-IDF"
   ]
  },
  {
   "cell_type": "code",
   "execution_count": 80,
   "metadata": {},
   "outputs": [
    {
     "name": "stdout",
     "output_type": "stream",
     "text": [
      "Started.\n",
      "opyimal k value\n",
      "algorithm =  kd_tree\n",
      "\n",
      "The optimal number of neighbors is 19.\n"
     ]
    },
    {
     "data": {
      "image/png": "[encoded data removed]",
      "text/plain": [
       "<Figure size 1080x576 with 1 Axes>"
      ]
     },
     "metadata": {},
     "output_type": "display_data"
    },
    {
     "name": "stdout",
     "output_type": "stream",
     "text": [
      "the misclassification error for each k value is :  [0.90194 0.88191 0.87455 0.87058 0.86924 0.8678  0.86618 0.8661  0.86478]\n"
     ]
    },
    {
     "data": {
      "image/png": "[encoded data removed]",
      "text/plain": [
       "<Figure size 432x288 with 1 Axes>"
      ]
     },
     "metadata": {},
     "output_type": "display_data"
    },
    {
     "name": "stdout",
     "output_type": "stream",
     "text": [
      "algorithm =  brute\n",
      "\n",
      "The optimal number of neighbors is 19.\n"
     ]
    },
    {
     "data": {
      "image/png": "[encoded data removed]",
      "text/plain": [
       "<Figure size 1080x576 with 1 Axes>"
      ]
     },
     "metadata": {},
     "output_type": "display_data"
    },
    {
     "name": "stdout",
     "output_type": "stream",
     "text": [
      "the misclassification error for each k value is :  [0.90378 0.88311 0.87747 0.87308 0.87036 0.86803 0.86671 0.8652  0.86404]\n"
     ]
    },
    {
     "data": {
      "image/png": "[encoded data removed]",
      "text/plain": [
       "<Figure size 432x288 with 1 Axes>"
      ]
     },
     "metadata": {},
     "output_type": "display_data"
    }
   ],
   "source": [
    "# To get optimal k using TF-IDF\n",
    "if __name__=='__main__':\n",
    "    mp.freeze_support()\n",
    "   \n",
    "    xtrain=[final_tf_idf_sparse,final_tfidf_np]\n",
    "    \n",
    "    xtest=[final_tfidf_np_test_sparse,final_tfidf_np_test]\n",
    "\n",
    "    main()"
   ]
  },
  {
   "cell_type": "markdown",
   "metadata": {},
   "source": [
    "## Knn classifier  for optimal k value ( TF-IDF)\n",
    "\n",
    "All techniques for Scoring metrics and confusion matrix are shown as below"
   ]
  },
  {
   "cell_type": "code",
   "execution_count": 81,
   "metadata": {},
   "outputs": [
    {
     "name": "stdout",
     "output_type": "stream",
     "text": [
      "[19, 19]\n"
     ]
    }
   ],
   "source": [
    "k=optimal_k_list\n",
    "print(optimal_k_list)"
   ]
  },
  {
   "cell_type": "code",
   "execution_count": 82,
   "metadata": {},
   "outputs": [],
   "source": [
    "#KNN with Optimal K\n",
    "xtrain=[final_tf_idf_sparse,final_tfidf_np]\n",
    "ytrain=[y_train_new,Y_train_data]\n",
    "xtest=[final_tfidf_np_test_sparse,final_tfidf_np_test]\n",
    "ytest=[y_test_new,Y_test_data]\n",
    "vectorization=' TF-IDF'\n"
   ]
  },
  {
   "cell_type": "code",
   "execution_count": 83,
   "metadata": {},
   "outputs": [
    {
     "name": "stdout",
     "output_type": "stream",
     "text": [
      "Started.\n",
      "Algorithm is =kd_tree for optimal k =19\n",
      " Algorithm = kd_tree\n",
      "training accuracy= 0.7994285714285714\n",
      "training error is = 0.20057142857142862\n",
      "Accuracy for KNN model  is =  0.61\n",
      "Testing error for KNN model is =  0.39\n",
      "\n",
      "\n",
      "             precision    recall  f1-score   support\n",
      "\n",
      "          0       0.34      0.20      0.25      3934\n",
      "          1       0.67      0.81      0.74      8066\n",
      "\n",
      "avg / total       0.56      0.61      0.58     12000\n",
      "\n"
     ]
    },
    {
     "data": {
      "image/png": "[encoded data removed]",
      "text/plain": [
       "<Figure size 432x288 with 2 Axes>"
      ]
     },
     "metadata": {},
     "output_type": "display_data"
    },
    {
     "name": "stdout",
     "output_type": "stream",
     "text": [
      "Algorithm is =brute for optimal k =19\n",
      " Algorithm = brute\n",
      "training accuracy= 0.7911071428571429\n",
      "training error is = 0.2088928571428571\n",
      "Accuracy for KNN model  is =  0.64658\n",
      "Testing error for KNN model is =  0.35341999999999996\n",
      "\n",
      "\n",
      "             precision    recall  f1-score   support\n",
      "\n",
      "   negative       0.34      0.08      0.13      3934\n",
      "   positive       0.67      0.92      0.78      8066\n",
      "\n",
      "avg / total       0.56      0.65      0.57     12000\n",
      "\n"
     ]
    },
    {
     "data": {
      "image/png": "[encoded data removed]",
      "text/plain": [
       "<Figure size 432x288 with 2 Axes>"
      ]
     },
     "metadata": {},
     "output_type": "display_data"
    }
   ],
   "source": [
    "import multiprocessing as mp\n",
    "\n",
    "\n",
    "def main1():\n",
    "    print(\"Started.\")\n",
    "    algorithm=['kd_tree','brute']\n",
    "  \n",
    "    for i in range(len(algorithm)):\n",
    "        algo=algorithm[i]\n",
    "        print(\"Algorithm is =\"+str(algo)+\" for optimal k =\"+str(k[i]))\n",
    "\n",
    "        Knn_classifier_optimal_k(xtrain[i],ytrain[i],xtest[i],ytest[i],k[i],algo,vectorization)\n",
    "\n",
    "if __name__=='__main__':\n",
    "    mp.freeze_support()\n",
    "    main1()\n",
    "   \n"
   ]
  },
  {
   "cell_type": "code",
   "execution_count": 84,
   "metadata": {},
   "outputs": [
    {
     "name": "stdout",
     "output_type": "stream",
     "text": [
      "|Model| Vectorizer |algorithm|Optimal k|Train error|Test error|Accuracy| F1  |recall|precision|\n",
      "|-----|------------|---------|--------:|----------:|---------:|-------:|----:|-----:|--------:|\n",
      "|KNN  |BOW         |kd_tree  |       19|     0.2198|    0.3731|  0.6269|49.28| 51.03|    51.72|\n",
      "|KNN  |BOW         |brute    |       19|     0.2212|    0.3562|  0.6437|46.45| 50.43|    51.12|\n",
      "|KNN  |Avg word2vec|kd_tree  |       19|     0.1803|    0.2195|  0.7805|72.38| 70.85|    76.85|\n",
      "|KNN  |Avg word2vec|brute    |       19|     0.1761|    0.2133|  0.7867|73.53| 72.05|    77.28|\n",
      "|KNN  | TF-IDF     |kd_tree  |       19|     0.2006|    0.3900|  0.6100|49.29| 50.43|    50.62|\n",
      "|KNN  | TF-IDF     |brute    |       19|     0.2089|    0.3534|  0.6466|45.61| 50.24|    50.71|\n",
      "\n"
     ]
    }
   ],
   "source": [
    "df6=pd.DataFrame(models_performence, columns=columns)\n",
    "result_display(df6)"
   ]
  },
  {
   "cell_type": "code",
   "execution_count": 85,
   "metadata": {},
   "outputs": [],
   "source": [
    "pickle_path111='df6.pkl'\n",
    "df61=open(pickle_path111,'wb')\n",
    "pickle.dump(df6,df61)\n",
    "df61.close()"
   ]
  },
  {
   "cell_type": "code",
   "execution_count": 44,
   "metadata": {},
   "outputs": [],
   "source": [
    "pickle_path111='df6.pkl'\n",
    "unpickle_path6=open(pickle_path111,'rb')\n",
    "df611=pickle.load(unpickle_path6)"
   ]
  },
  {
   "cell_type": "code",
   "execution_count": 45,
   "metadata": {},
   "outputs": [
    {
     "name": "stdout",
     "output_type": "stream",
     "text": [
      "|Model| Vectorizer |algorithm|Optimal k|Train error|Test error|Accuracy| F1  |recall|precision|\n",
      "|-----|------------|---------|--------:|----------:|---------:|-------:|----:|-----:|--------:|\n",
      "|KNN  |BOW         |kd_tree  |       19|     0.2198|    0.3731|  0.6269|49.28| 51.03|    51.72|\n",
      "|KNN  |BOW         |brute    |       19|     0.2212|    0.3562|  0.6437|46.45| 50.43|    51.12|\n",
      "|KNN  |Avg word2vec|kd_tree  |       19|     0.1803|    0.2195|  0.7805|72.38| 70.85|    76.85|\n",
      "|KNN  |Avg word2vec|brute    |       19|     0.1761|    0.2133|  0.7867|73.53| 72.05|    77.28|\n",
      "|KNN  | TF-IDF     |kd_tree  |       19|     0.2006|    0.3900|  0.6100|49.29| 50.43|    50.62|\n",
      "|KNN  | TF-IDF     |brute    |       19|     0.2089|    0.3534|  0.6466|45.61| 50.24|    50.71|\n",
      "\n"
     ]
    }
   ],
   "source": [
    "df6=pd.DataFrame(models_performence, columns=columns)\n",
    "result_display(df611)"
   ]
  },
  {
   "cell_type": "markdown",
   "metadata": {},
   "source": [
    "|Model| Vectorizer |algorithm|Optimal k|Train error|Test error|Accuracy| F1  |recall|precision|\n",
    "|-----|------------|---------|--------:|----------:|---------:|-------:|----:|-----:|--------:|\n",
    "|KNN  |BOW         |kd_tree  |       19|     0.2198|    0.3731|  0.6269|49.28| 51.03|    51.72|\n",
    "|KNN  |BOW         |brute    |       19|     0.2212|    0.3562|  0.6437|46.45| 50.43|    51.12|\n",
    "|KNN  |Avg word2vec|kd_tree  |       19|     0.1803|    0.2195|  0.7805|72.38| 70.85|    76.85|\n",
    "|KNN  |Avg word2vec|brute    |       19|     0.1761|    0.2133|  0.7867|73.53| 72.05|    77.28|\n",
    "|KNN  | TF-IDF     |kd_tree  |       19|     0.2006|    0.3900|  0.6100|49.29| 50.43|    50.62|\n",
    "|KNN  | TF-IDF     |brute    |       19|     0.2089|    0.3534|  0.6466|45.61| 50.24|    50.71|"
   ]
  },
  {
   "cell_type": "markdown",
   "metadata": {},
   "source": [
    "#### observations\n",
    "* The optimal number of neighbors is 19 for both the algorithm for TF-IDf model.\n",
    "* True postive rate   is high(92%) for Brute force and 81% for KD-Tree.It means postive rating is higher as compared to negative rating which is good for amazon reviews .\n",
    "* Confusion matrix and model performance is shown as above.\n",
    "\n",
    "* KDTree Algorithm for KNN classifier is giving better performance as compared to brute Algorithm  as seen in above table\n",
    "\n",
    "\n",
    "\n",
    " \n",
    "    "
   ]
  },
  {
   "cell_type": "markdown",
   "metadata": {},
   "source": [
    "#  4.TF-IDF weighted Word2Vec"
   ]
  },
  {
   "cell_type": "code",
   "execution_count": 70,
   "metadata": {},
   "outputs": [],
   "source": [
    "tfidf_feat = tf_idf_vect.get_feature_names() \n"
   ]
  },
  {
   "cell_type": "code",
   "execution_count": 71,
   "metadata": {},
   "outputs": [],
   "source": [
    "# TF-IDF weighted Word2Vec\n",
    "#tfidf_feat = tf_idf_vect.get_feature_names() \n",
    "\n",
    "tfidf_sent_vectors  = []; \n",
    "row=0;\n",
    "for sent in  X_train_data.values.ravel() : \n",
    "    sent_vec = np.zeros(100) \n",
    "    weight_sum =0; \n",
    "    for word in sent: \n",
    "        try:\n",
    "            vec = w2v_model.wv[word]\n",
    "            \n",
    "            tfidf = final_tf_idf[row, tfidf_feat.index(word)]\n",
    "            sent_vec += (vec * tf_idf)\n",
    "            weight_sum += tf_idf\n",
    "        except:\n",
    "            pass\n",
    "    sent_vec /= weight_sum\n",
    "    tfidf_sent_vectors .append(sent_vec)\n",
    "    row += 1"
   ]
  },
  {
   "cell_type": "code",
   "execution_count": 72,
   "metadata": {},
   "outputs": [
    {
     "name": "stdout",
     "output_type": "stream",
     "text": [
      "28000\n"
     ]
    }
   ],
   "source": [
    "print(len(tfidf_sent_vectors))"
   ]
  },
  {
   "cell_type": "code",
   "execution_count": 73,
   "metadata": {},
   "outputs": [
    {
     "name": "stdout",
     "output_type": "stream",
     "text": [
      "[nan nan nan nan nan nan nan nan nan nan nan nan nan nan nan nan nan nan\n",
      " nan nan nan nan nan nan nan nan nan nan nan nan nan nan nan nan nan nan\n",
      " nan nan nan nan nan nan nan nan nan nan nan nan nan nan nan nan nan nan\n",
      " nan nan nan nan nan nan nan nan nan nan nan nan nan nan nan nan nan nan\n",
      " nan nan nan nan nan nan nan nan nan nan nan nan nan nan nan nan nan nan\n",
      " nan nan nan nan nan nan nan nan nan nan]\n",
      "[0. 0. 0. 0. 0. 0. 0. 0. 0. 0. 0. 0. 0. 0. 0. 0. 0. 0. 0. 0. 0. 0. 0. 0.\n",
      " 0. 0. 0. 0. 0. 0. 0. 0. 0. 0. 0. 0. 0. 0. 0. 0. 0. 0. 0. 0. 0. 0. 0. 0.\n",
      " 0. 0. 0. 0. 0. 0. 0. 0. 0. 0. 0. 0. 0. 0. 0. 0. 0. 0. 0. 0. 0. 0. 0. 0.\n",
      " 0. 0. 0. 0. 0. 0. 0. 0. 0. 0. 0. 0. 0. 0. 0. 0. 0. 0. 0. 0. 0. 0. 0. 0.\n",
      " 0. 0. 0. 0.]\n"
     ]
    }
   ],
   "source": [
    "print(tfidf_sent_vectors[2])\n",
    "tfidf_sent_vectors_train  = np.where(np.isnan(tfidf_sent_vectors ), 0, tfidf_sent_vectors )\n",
    "print(tfidf_sent_vectors_train[2])"
   ]
  },
  {
   "cell_type": "code",
   "execution_count": 74,
   "metadata": {},
   "outputs": [
    {
     "name": "stdout",
     "output_type": "stream",
     "text": [
      "<class 'list'>\n"
     ]
    }
   ],
   "source": [
    "tfidf_sent_vectors_train  = np.asarray(tfidf_sent_vectors_train )\n",
    "print(type(tfidf_sent_vectors))"
   ]
  },
  {
   "cell_type": "markdown",
   "metadata": {},
   "source": [
    "#### Dumping & Loading Pickle file for trainText data (TF-IDF weighted word2vec)"
   ]
  },
  {
   "cell_type": "code",
   "execution_count": 75,
   "metadata": {},
   "outputs": [],
   "source": [
    "pickle_path_tfidf_weighted='X_data_tfidf_weighted.pkl'\n",
    "X_data_tfidf_weighted=open(pickle_path_tfidf_weighted,'wb')\n",
    "pickle.dump(tfidf_sent_vectors_train  ,X_data_tfidf_weighted)\n",
    "X_data_tfidf_weighted.close()"
   ]
  },
  {
   "cell_type": "code",
   "execution_count": 76,
   "metadata": {},
   "outputs": [],
   "source": [
    "pickle_path_tfidf_weighted='X_data_tfidf_weighted.pkl'\n",
    "unpickle_path7=open(pickle_path_tfidf_weighted,'rb')\n",
    "tfidf_sent_vectors_train =pickle.load(unpickle_path7)"
   ]
  },
  {
   "cell_type": "code",
   "execution_count": 77,
   "metadata": {},
   "outputs": [],
   "source": [
    "sc_data3= StandardScaler(with_mean=False).fit_transform(tfidf_sent_vectors_train)\n",
    "final_tfidf_w2v_np_train=preprocessing.normalize(sc_data3)"
   ]
  },
  {
   "cell_type": "markdown",
   "metadata": {},
   "source": [
    "##### For test Tf-idf weighted word2vec"
   ]
  },
  {
   "cell_type": "code",
   "execution_count": 78,
   "metadata": {},
   "outputs": [],
   "source": [
    "tfidf_sent_vectors1  = []; \n",
    "row=0;\n",
    "for sent in  X_test_data.values.ravel() : \n",
    "    sent_vec = np.zeros(100) \n",
    "    weight_sum =0; \n",
    "    for word in sent: \n",
    "        try:\n",
    "            vec = w2v_model.wv[word]\n",
    "            \n",
    "            tfidf = final_tf_idf_test1[row, tfidf_feat.index(word)]\n",
    "            sent_vec += (vec * tf_idf)\n",
    "            weight_sum += tf_idf\n",
    "        except:\n",
    "            pass\n",
    "    sent_vec /= weight_sum\n",
    "    tfidf_sent_vectors1 .append(sent_vec)\n",
    "    row += 1"
   ]
  },
  {
   "cell_type": "code",
   "execution_count": 79,
   "metadata": {},
   "outputs": [
    {
     "name": "stdout",
     "output_type": "stream",
     "text": [
      "12000\n",
      "[nan nan nan nan nan nan nan nan nan nan nan nan nan nan nan nan nan nan\n",
      " nan nan nan nan nan nan nan nan nan nan nan nan nan nan nan nan nan nan\n",
      " nan nan nan nan nan nan nan nan nan nan nan nan nan nan nan nan nan nan\n",
      " nan nan nan nan nan nan nan nan nan nan nan nan nan nan nan nan nan nan\n",
      " nan nan nan nan nan nan nan nan nan nan nan nan nan nan nan nan nan nan\n",
      " nan nan nan nan nan nan nan nan nan nan]\n",
      "[0. 0. 0. 0. 0. 0. 0. 0. 0. 0. 0. 0. 0. 0. 0. 0. 0. 0. 0. 0. 0. 0. 0. 0.\n",
      " 0. 0. 0. 0. 0. 0. 0. 0. 0. 0. 0. 0. 0. 0. 0. 0. 0. 0. 0. 0. 0. 0. 0. 0.\n",
      " 0. 0. 0. 0. 0. 0. 0. 0. 0. 0. 0. 0. 0. 0. 0. 0. 0. 0. 0. 0. 0. 0. 0. 0.\n",
      " 0. 0. 0. 0. 0. 0. 0. 0. 0. 0. 0. 0. 0. 0. 0. 0. 0. 0. 0. 0. 0. 0. 0. 0.\n",
      " 0. 0. 0. 0.]\n",
      "<class 'list'>\n"
     ]
    }
   ],
   "source": [
    "print(len(tfidf_sent_vectors1))\n",
    "print(tfidf_sent_vectors1[2])\n",
    "tfidf_sent_vectors_test  = np.where(np.isnan(tfidf_sent_vectors1 ),\n",
    "                                     0, tfidf_sent_vectors1 )\n",
    "print(tfidf_sent_vectors_test[2])\n",
    "final_tfidf_w2v_np_test = np.asarray(tfidf_sent_vectors_test )\n",
    "print(type(tfidf_sent_vectors1))"
   ]
  },
  {
   "cell_type": "markdown",
   "metadata": {},
   "source": [
    "#### Dumping & Loading Pickle file for test Text data (TF-IDF weighted word2vec)"
   ]
  },
  {
   "cell_type": "code",
   "execution_count": 80,
   "metadata": {},
   "outputs": [],
   "source": [
    "pickle_path_tfidf_weighted1='X_data_tfidf_weighted_test.pkl'\n",
    "X_data_tfidf_weighted1=open(pickle_path_tfidf_weighted1,'wb')\n",
    "pickle.dump(final_tfidf_w2v_np_test  ,X_data_tfidf_weighted1)\n",
    "X_data_tfidf_weighted1.close()"
   ]
  },
  {
   "cell_type": "code",
   "execution_count": 81,
   "metadata": {},
   "outputs": [],
   "source": [
    "pickle_path_tfidf_weighted1='X_data_tfidf_weighted_test.pkl'\n",
    "unpickle_path71=open(pickle_path_tfidf_weighted1,'rb')\n",
    "final_tfidf_w2v_np_test =pickle.load(unpickle_path71)"
   ]
  },
  {
   "cell_type": "code",
   "execution_count": 82,
   "metadata": {},
   "outputs": [
    {
     "name": "stdout",
     "output_type": "stream",
     "text": [
      "Test Data Sparse: (12000, 100)\n"
     ]
    }
   ],
   "source": [
    "final_tfidf_np_test_sparse=csr_matrix(final_tf_idf_test1).todense()\n",
    "\n",
    "print(\"Test Data Sparse:\",final_tfidf_np_test_sparse.shape)"
   ]
  },
  {
   "cell_type": "markdown",
   "metadata": {},
   "source": [
    "#### Sparse Matrix for Training And Testing TF-IDF weighted avg word2vec"
   ]
  },
  {
   "cell_type": "code",
   "execution_count": 83,
   "metadata": {},
   "outputs": [
    {
     "name": "stdout",
     "output_type": "stream",
     "text": [
      "Train data Sparse: (28000, 100)\n"
     ]
    }
   ],
   "source": [
    "final_tfidf_w2v_np_train_sparse=csr_matrix(tfidf_sent_vectors_train).todense()\n",
    "\n",
    "print(\"Train data Sparse:\",final_tfidf_w2v_np_train_sparse.shape)"
   ]
  },
  {
   "cell_type": "code",
   "execution_count": 84,
   "metadata": {},
   "outputs": [
    {
     "name": "stdout",
     "output_type": "stream",
     "text": [
      "Test Data Sparse: (12000, 100)\n"
     ]
    }
   ],
   "source": [
    "final_tfidf_w2v_np_test_sparse=csr_matrix(tfidf_sent_vectors_test ).todense()\n",
    "\n",
    "print(\"Test Data Sparse:\",final_tfidf_w2v_np_test_sparse.shape)"
   ]
  },
  {
   "cell_type": "markdown",
   "metadata": {},
   "source": [
    "for Training Data:\n",
    "\n",
    "            1.final_tfidf_w2v_np_train_sparse\n",
    "            2.final_tfidf_w2v_np_train\n",
    "\n",
    "For testing data:\n",
    "\n",
    "            1.final_tfidf_w2v_np_test_sparse\n",
    "            2.final_tfidf_w2v_np_test\n",
    "    "
   ]
  },
  {
   "cell_type": "markdown",
   "metadata": {},
   "source": [
    "## optimal k using TF-IDF weighted Word2Vec"
   ]
  },
  {
   "cell_type": "code",
   "execution_count": 85,
   "metadata": {},
   "outputs": [
    {
     "name": "stdout",
     "output_type": "stream",
     "text": [
      "Started.\n",
      "opyimal k value\n",
      "algorithm =  kd_tree\n",
      "\n",
      "The optimal number of neighbors is 3.\n"
     ]
    },
    {
     "data": {
      "image/png": "[encoded data removed]",
      "text/plain": [
       "<Figure size 1080x576 with 1 Axes>"
      ]
     },
     "metadata": {},
     "output_type": "display_data"
    },
    {
     "name": "stdout",
     "output_type": "stream",
     "text": [
      "the misclassification error for each k value is :  [0.      0.      0.      0.      0.      0.83134 0.83134 0.83134 0.83134]\n"
     ]
    },
    {
     "data": {
      "image/png": "[encoded data removed]",
      "text/plain": [
       "<Figure size 432x288 with 1 Axes>"
      ]
     },
     "metadata": {},
     "output_type": "display_data"
    },
    {
     "name": "stdout",
     "output_type": "stream",
     "text": [
      "algorithm =  brute\n",
      "\n",
      "The optimal number of neighbors is 3.\n"
     ]
    },
    {
     "data": {
      "image/png": "[encoded data removed]",
      "text/plain": [
       "<Figure size 1080x576 with 1 Axes>"
      ]
     },
     "metadata": {},
     "output_type": "display_data"
    },
    {
     "name": "stdout",
     "output_type": "stream",
     "text": [
      "the misclassification error for each k value is :  [0.83134 0.83134 0.83134 0.83134 0.83134 0.83134 0.83134 0.83134 0.83134]\n"
     ]
    },
    {
     "data": {
      "image/png": "[encoded data removed]",
      "text/plain": [
       "<Figure size 432x288 with 1 Axes>"
      ]
     },
     "metadata": {},
     "output_type": "display_data"
    }
   ],
   "source": [
    "# To get optimal k using Tf-IDf weighted Word2Vec\n",
    "\n",
    "if __name__=='__main__':\n",
    "    mp.freeze_support()\n",
    "    xtrain=[final_tfidf_w2v_np_train_sparse,final_tfidf_w2v_np_train]\n",
    "    xtest=[final_tfidf_w2v_np_test_sparse,final_tfidf_w2v_np_test]\n",
    "\n",
    "    main()\n",
    "\n"
   ]
  },
  {
   "cell_type": "markdown",
   "metadata": {},
   "source": [
    "#### Observations:\n",
    "* The optimal number of neighbors is 3\n",
    "* The graph is constant for all values of k \n",
    "* MSE graph and performance graph for avg word2 vec and TF-IDF weighted word2vec is shown above.   "
   ]
  },
  {
   "cell_type": "markdown",
   "metadata": {},
   "source": [
    "## Knn classifier  for optimal k value ( TF-IDF weighted word2vec)"
   ]
  },
  {
   "cell_type": "code",
   "execution_count": 86,
   "metadata": {},
   "outputs": [
    {
     "name": "stdout",
     "output_type": "stream",
     "text": [
      "[3, 3]\n"
     ]
    }
   ],
   "source": [
    "k=optimal_k_list\n",
    "print(k)"
   ]
  },
  {
   "cell_type": "code",
   "execution_count": 87,
   "metadata": {},
   "outputs": [],
   "source": [
    "#KNN with Optimal K\n",
    "xtrain=[final_tfidf_w2v_np_train_sparse,final_tfidf_w2v_np_train]\n",
    "ytrain=[y_train_new,Y_train_data]\n",
    "xtest=[final_tfidf_w2v_np_test_sparse,final_tfidf_w2v_np_test]\n",
    "ytest=[y_test_new,Y_test_data]\n",
    "\n",
    "\n",
    "vectorization=' TF-IDF weighted word2vec'\n",
    "\n"
   ]
  },
  {
   "cell_type": "code",
   "execution_count": 88,
   "metadata": {},
   "outputs": [
    {
     "name": "stdout",
     "output_type": "stream",
     "text": [
      "Started.\n",
      "Algorithm is =kd_tree for optimal k =3\n",
      " Algorithm = kd_tree\n",
      "training accuracy= 0.28864285714285715\n",
      "training error is = 0.7113571428571428\n",
      "Accuracy for KNN model  is =  0.32758\n",
      "Testing error for KNN model is =  0.67242\n",
      "\n",
      "\n",
      "             precision    recall  f1-score   support\n",
      "\n",
      "          0       0.33      1.00      0.49      3931\n",
      "          1       0.00      0.00      0.00      8069\n",
      "\n",
      "avg / total       0.11      0.33      0.16     12000\n",
      "\n"
     ]
    },
    {
     "data": {
      "image/png": "[encoded data removed]",
      "text/plain": [
       "<Figure size 432x288 with 2 Axes>"
      ]
     },
     "metadata": {},
     "output_type": "display_data"
    },
    {
     "name": "stdout",
     "output_type": "stream",
     "text": [
      "Algorithm is =brute for optimal k =3\n",
      " Algorithm = brute\n",
      "training accuracy= 0.7113571428571429\n",
      "training error is = 0.2886428571428571\n",
      "Accuracy for KNN model  is =  0.67242\n",
      "Testing error for KNN model is =  0.32758\n",
      "\n",
      "\n",
      "             precision    recall  f1-score   support\n",
      "\n",
      "   negative       0.00      0.00      0.00      3931\n",
      "   positive       0.67      1.00      0.80      8069\n",
      "\n",
      "avg / total       0.45      0.67      0.54     12000\n",
      "\n"
     ]
    },
    {
     "data": {
      "image/png": "[encoded data removed]",
      "text/plain": [
       "<Figure size 432x288 with 2 Axes>"
      ]
     },
     "metadata": {},
     "output_type": "display_data"
    }
   ],
   "source": [
    "import multiprocessing as mp\n",
    "\n",
    "\n",
    "def main1():\n",
    "    print(\"Started.\")\n",
    "    algorithm=['kd_tree','brute']\n",
    "  \n",
    "    for i in range(len(algorithm)):\n",
    "        algo=algorithm[i]\n",
    "        print(\"Algorithm is =\"+str(algo)+\" for optimal k =\"+str(k[i]))\n",
    "\n",
    "        Knn_classifier_optimal_k(xtrain[i],ytrain[i],xtest[i],ytest[i],k[i],algo,vectorization)\n",
    "\n",
    "if __name__=='__main__':\n",
    "    mp.freeze_support()\n",
    "    main1()\n",
    "   \n"
   ]
  },
  {
   "cell_type": "code",
   "execution_count": 89,
   "metadata": {},
   "outputs": [
    {
     "name": "stdout",
     "output_type": "stream",
     "text": [
      "|Model|       Vectorizer        |algorithm|Optimal k|Train error|Test error|Accuracy| F1  |recall|precision|\n",
      "|-----|-------------------------|---------|--------:|----------:|---------:|-------:|----:|-----:|--------:|\n",
      "|KNN  | TF-IDF weighted word2vec|kd_tree  |        3|     0.7114|    0.6724|  0.3276|24.67|    50|    16.38|\n",
      "|KNN  | TF-IDF weighted word2vec|brute    |        3|     0.2886|    0.3276|  0.6724|40.21|    50|    33.62|\n",
      "\n"
     ]
    }
   ],
   "source": [
    "df8=pd.DataFrame(models_performence, columns=columns)\n",
    "result_display(df8)"
   ]
  },
  {
   "cell_type": "code",
   "execution_count": 90,
   "metadata": {},
   "outputs": [
    {
     "name": "stdout",
     "output_type": "stream",
     "text": [
      "  Model                 Vectorizer algorithm  Optimal k  Train error  \\\n",
      "0   KNN   TF-IDF weighted word2vec   kd_tree          3     0.711357   \n",
      "1   KNN   TF-IDF weighted word2vec     brute          3     0.288643   \n",
      "\n",
      "   Test error  Accuracy      F1  recall  precision  \n",
      "0     0.67242   0.32758  24.675    50.0     16.379  \n",
      "1     0.32758   0.67242  40.206    50.0     33.621  \n"
     ]
    }
   ],
   "source": [
    "print(df8)"
   ]
  },
  {
   "cell_type": "markdown",
   "metadata": {},
   "source": [
    "# Conclusions"
   ]
  },
  {
   "cell_type": "markdown",
   "metadata": {},
   "source": [
    "|Model| Vectorizer |algorithm|Optimal k|Train error|Test error|Accuracy| F1  |recall|precision|\n",
    "|-----|------------|---------|--------:|----------:|---------:|-------:|----:|-----:|--------:|\n",
    "|KNN  |BOW         |kd_tree  |       19|     0.2198|    0.3731|  0.6269|49.28| 51.03|    51.72|\n",
    "|KNN  |BOW         |brute    |       19|     0.2212|    0.3562|  0.6437|46.45| 50.43|    51.12|\n",
    "|KNN  |Avg word2vec|kd_tree  |       19|     0.1803|    0.2195|  0.7805|72.38| 70.85|    76.85|\n",
    "|KNN  |Avg word2vec|brute    |       19|     0.1761|    0.2133|  0.7867|73.53| 72.05|    77.28|\n",
    "|KNN  | TF-IDF     |kd_tree  |       19|     0.2006|    0.3900|  0.6100|49.29| 50.43|    50.62|\n",
    "|KNN  | TF-IDF     |brute    |       19|     0.2089|    0.3534|  0.6466|45.61| 50.24|    50.71|\n",
    "|KNN  | TF-IDF weighted word2vec|kd_tree  |        3|     0.7114|    0.6724|  0.3276|24.67|    50|    16.38|\n",
    "|KNN  | TF-IDF weighted word2vec|brute    |        3|     0.2886|    0.3276|  0.6724|40.21|    50|    33.62|"
   ]
  },
  {
   "cell_type": "markdown",
   "metadata": {},
   "source": [
    "\n",
    "* MSE(misclassification error) and optimal value of k is same for KdTree and Brute force in weighted tf-idf featurization technique.\n",
    "* Training error for Tf-idf is low but testing error is too high in case of KDtree. In other vectorizer techniques training and testing error is quite similar.\n",
    "* Model Tf-IDF weighted tf-idf using KDTree algorithm leads to overfitting.\n",
    "* From above Table,It can be concluded that KNN model works best in case of Bag of words which is the best to predict the polarity of reviews among all models.\n",
    "* All techniques for scoring metrics is good in case for BOW for given KNN model.\n",
    "* The kd-tree and brute implementation of KNN for all featurization techniques  gives relatively similar results.\n",
    "* For getting K optimal values, f1 score and precision score metrics techniques doesnot work in KNN classifier. Only accuracy metrics gives relative optimal K-values.\n",
    "* From all featurization techniques, BOW & Avg word2vec gives better results in both the implementations while Tf-IDF and TF-IDF weighted word2vec does not perform well.\n",
    "* K-value for featurization techniques  varies if dimesions(features) increases \n",
    "\n",
    "* Avg word2vec for KNN(KDtree and Brute) performs very well for classifying given reviews (positive (Rating of 4 or 5) & negative (rating of 1 or 2))  \n",
    "\n",
    "\n",
    "\n"
   ]
  },
  {
   "cell_type": "code",
   "execution_count": null,
   "metadata": {},
   "outputs": [],
   "source": []
  },
  {
   "cell_type": "code",
   "execution_count": null,
   "metadata": {},
   "outputs": [],
   "source": []
  },
  {
   "cell_type": "code",
   "execution_count": null,
   "metadata": {},
   "outputs": [],
   "source": []
  }
 ],
 "metadata": {
  "kernelspec": {
   "display_name": "Python 3",
   "language": "python",
   "name": "python3"
  },
  "language_info": {
   "codemirror_mode": {
    "name": "ipython",
    "version": 3
   },
   "file_extension": ".py",
   "mimetype": "text/x-python",
   "name": "python",
   "nbconvert_exporter": "python",
   "pygments_lexer": "ipython3",
   "version": "3.6.5"
  }
 },
 "nbformat": 4,
 "nbformat_minor": 2
}
